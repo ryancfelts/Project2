{
 "cells": [
  {
   "cell_type": "code",
   "execution_count": 21,
   "metadata": {},
   "outputs": [],
   "source": [
    "from pathlib import Path\n",
    "import pandas as pd\n",
    "import numpy as np\n",
    "from sklearn.ensemble import RandomForestClassifier\n",
    "from sklearn.datasets import make_classification"
   ]
  },
  {
   "cell_type": "code",
   "execution_count": 22,
   "metadata": {},
   "outputs": [],
   "source": [
    "btc_trading_signals_df = pd.read_csv(Path(\"Resources/BitcoinTradingSignals.csv\"), parse_dates=True, index_col='time')\n",
    "eth_trading_signals_df = pd.read_csv(Path(\"Resources/EthereumTradingSignals.csv\"), parse_dates=True, index_col='time')\n",
    "ada_trading_signals_df = pd.read_csv(Path(\"Resources/CardanoTradingSignals.csv\"), parse_dates=True, index_col='time')\n",
    "usdt_trading_signals_df = pd.read_csv(Path(\"Resources/TetherTradingSignals.csv\"), parse_dates=True, index_col='time')\n",
    "ltc_trading_signals_df = pd.read_csv(Path(\"Resources/LitecoinTradingSignals.csv\"), parse_dates=True, index_col='time')\n",
    "dgb_trading_signals_df = pd.read_csv(Path(\"Resources/DigiByteTradingSignals.csv\"), parse_dates=True, index_col='time')\n",
    "xrp_trading_signals_df = pd.read_csv(Path(\"Resources/RippleTradingSignals.csv\"), parse_dates=True, index_col='time')\n",
    "trx_trading_signals_df = pd.read_csv(Path(\"Resources/TronTradingSignals.csv\"), parse_dates=True, index_col='time')\n",
    "tusd_trading_signals_df = pd.read_csv(Path(\"Resources/TrueUSDTradingSignals.csv\"), parse_dates=True, index_col='time')\n",
    "bsv_trading_signals_df = pd.read_csv(Path(\"Resources/BitcoinSVTradingSignals.csv\"), parse_dates=True, index_col='time')"
   ]
  },
  {
   "cell_type": "code",
   "execution_count": 23,
   "metadata": {},
   "outputs": [
    {
     "data": {
      "text/html": [
       "<div>\n",
       "<style scoped>\n",
       "    .dataframe tbody tr th:only-of-type {\n",
       "        vertical-align: middle;\n",
       "    }\n",
       "\n",
       "    .dataframe tbody tr th {\n",
       "        vertical-align: top;\n",
       "    }\n",
       "\n",
       "    .dataframe thead th {\n",
       "        text-align: right;\n",
       "    }\n",
       "</style>\n",
       "<table border=\"1\" class=\"dataframe\">\n",
       "  <thead>\n",
       "    <tr style=\"text-align: right;\">\n",
       "      <th></th>\n",
       "      <th>crossover_signal</th>\n",
       "      <th>vol_trend_signal</th>\n",
       "      <th>bollinger_signal</th>\n",
       "    </tr>\n",
       "    <tr>\n",
       "      <th>time</th>\n",
       "      <th></th>\n",
       "      <th></th>\n",
       "      <th></th>\n",
       "    </tr>\n",
       "  </thead>\n",
       "  <tbody>\n",
       "    <tr>\n",
       "      <th>2019-03-20 00:00:00+00:00</th>\n",
       "      <td>0.0</td>\n",
       "      <td>0.0</td>\n",
       "      <td>0.0</td>\n",
       "    </tr>\n",
       "    <tr>\n",
       "      <th>2019-03-21 00:00:00+00:00</th>\n",
       "      <td>-1.0</td>\n",
       "      <td>0.0</td>\n",
       "      <td>0.0</td>\n",
       "    </tr>\n",
       "    <tr>\n",
       "      <th>2019-03-22 00:00:00+00:00</th>\n",
       "      <td>1.0</td>\n",
       "      <td>1.0</td>\n",
       "      <td>0.0</td>\n",
       "    </tr>\n",
       "    <tr>\n",
       "      <th>2019-03-23 00:00:00+00:00</th>\n",
       "      <td>1.0</td>\n",
       "      <td>-1.0</td>\n",
       "      <td>0.0</td>\n",
       "    </tr>\n",
       "    <tr>\n",
       "      <th>2019-03-24 00:00:00+00:00</th>\n",
       "      <td>1.0</td>\n",
       "      <td>-1.0</td>\n",
       "      <td>0.0</td>\n",
       "    </tr>\n",
       "    <tr>\n",
       "      <th>2019-03-25 00:00:00+00:00</th>\n",
       "      <td>-1.0</td>\n",
       "      <td>-1.0</td>\n",
       "      <td>0.0</td>\n",
       "    </tr>\n",
       "    <tr>\n",
       "      <th>2019-03-26 00:00:00+00:00</th>\n",
       "      <td>-1.0</td>\n",
       "      <td>-1.0</td>\n",
       "      <td>0.0</td>\n",
       "    </tr>\n",
       "    <tr>\n",
       "      <th>2019-03-27 00:00:00+00:00</th>\n",
       "      <td>-1.0</td>\n",
       "      <td>1.0</td>\n",
       "      <td>0.0</td>\n",
       "    </tr>\n",
       "    <tr>\n",
       "      <th>2019-03-28 00:00:00+00:00</th>\n",
       "      <td>-1.0</td>\n",
       "      <td>1.0</td>\n",
       "      <td>0.0</td>\n",
       "    </tr>\n",
       "    <tr>\n",
       "      <th>2019-03-29 00:00:00+00:00</th>\n",
       "      <td>-1.0</td>\n",
       "      <td>1.0</td>\n",
       "      <td>0.0</td>\n",
       "    </tr>\n",
       "    <tr>\n",
       "      <th>2019-03-30 00:00:00+00:00</th>\n",
       "      <td>-1.0</td>\n",
       "      <td>-1.0</td>\n",
       "      <td>0.0</td>\n",
       "    </tr>\n",
       "    <tr>\n",
       "      <th>2019-03-31 00:00:00+00:00</th>\n",
       "      <td>-1.0</td>\n",
       "      <td>-1.0</td>\n",
       "      <td>0.0</td>\n",
       "    </tr>\n",
       "    <tr>\n",
       "      <th>2019-04-01 00:00:00+00:00</th>\n",
       "      <td>-1.0</td>\n",
       "      <td>-1.0</td>\n",
       "      <td>0.0</td>\n",
       "    </tr>\n",
       "    <tr>\n",
       "      <th>2019-04-02 00:00:00+00:00</th>\n",
       "      <td>1.0</td>\n",
       "      <td>1.0</td>\n",
       "      <td>0.0</td>\n",
       "    </tr>\n",
       "    <tr>\n",
       "      <th>2019-04-03 00:00:00+00:00</th>\n",
       "      <td>1.0</td>\n",
       "      <td>1.0</td>\n",
       "      <td>0.0</td>\n",
       "    </tr>\n",
       "    <tr>\n",
       "      <th>2019-04-04 00:00:00+00:00</th>\n",
       "      <td>1.0</td>\n",
       "      <td>1.0</td>\n",
       "      <td>0.0</td>\n",
       "    </tr>\n",
       "    <tr>\n",
       "      <th>2019-04-05 00:00:00+00:00</th>\n",
       "      <td>1.0</td>\n",
       "      <td>1.0</td>\n",
       "      <td>0.0</td>\n",
       "    </tr>\n",
       "    <tr>\n",
       "      <th>2019-04-06 00:00:00+00:00</th>\n",
       "      <td>1.0</td>\n",
       "      <td>1.0</td>\n",
       "      <td>0.0</td>\n",
       "    </tr>\n",
       "    <tr>\n",
       "      <th>2019-04-07 00:00:00+00:00</th>\n",
       "      <td>1.0</td>\n",
       "      <td>1.0</td>\n",
       "      <td>0.0</td>\n",
       "    </tr>\n",
       "    <tr>\n",
       "      <th>2019-04-08 00:00:00+00:00</th>\n",
       "      <td>1.0</td>\n",
       "      <td>1.0</td>\n",
       "      <td>-1.0</td>\n",
       "    </tr>\n",
       "    <tr>\n",
       "      <th>2019-04-09 00:00:00+00:00</th>\n",
       "      <td>1.0</td>\n",
       "      <td>1.0</td>\n",
       "      <td>-1.0</td>\n",
       "    </tr>\n",
       "    <tr>\n",
       "      <th>2019-04-10 00:00:00+00:00</th>\n",
       "      <td>1.0</td>\n",
       "      <td>1.0</td>\n",
       "      <td>-1.0</td>\n",
       "    </tr>\n",
       "    <tr>\n",
       "      <th>2019-04-11 00:00:00+00:00</th>\n",
       "      <td>1.0</td>\n",
       "      <td>1.0</td>\n",
       "      <td>-1.0</td>\n",
       "    </tr>\n",
       "    <tr>\n",
       "      <th>2019-04-12 00:00:00+00:00</th>\n",
       "      <td>1.0</td>\n",
       "      <td>1.0</td>\n",
       "      <td>-1.0</td>\n",
       "    </tr>\n",
       "    <tr>\n",
       "      <th>2019-04-13 00:00:00+00:00</th>\n",
       "      <td>1.0</td>\n",
       "      <td>1.0</td>\n",
       "      <td>-1.0</td>\n",
       "    </tr>\n",
       "    <tr>\n",
       "      <th>2019-04-14 00:00:00+00:00</th>\n",
       "      <td>1.0</td>\n",
       "      <td>-1.0</td>\n",
       "      <td>-1.0</td>\n",
       "    </tr>\n",
       "    <tr>\n",
       "      <th>2019-04-15 00:00:00+00:00</th>\n",
       "      <td>1.0</td>\n",
       "      <td>1.0</td>\n",
       "      <td>-1.0</td>\n",
       "    </tr>\n",
       "    <tr>\n",
       "      <th>2019-04-16 00:00:00+00:00</th>\n",
       "      <td>1.0</td>\n",
       "      <td>1.0</td>\n",
       "      <td>-1.0</td>\n",
       "    </tr>\n",
       "    <tr>\n",
       "      <th>2019-04-17 00:00:00+00:00</th>\n",
       "      <td>-1.0</td>\n",
       "      <td>1.0</td>\n",
       "      <td>-1.0</td>\n",
       "    </tr>\n",
       "    <tr>\n",
       "      <th>2019-04-18 00:00:00+00:00</th>\n",
       "      <td>-1.0</td>\n",
       "      <td>1.0</td>\n",
       "      <td>-1.0</td>\n",
       "    </tr>\n",
       "    <tr>\n",
       "      <th>...</th>\n",
       "      <td>...</td>\n",
       "      <td>...</td>\n",
       "      <td>...</td>\n",
       "    </tr>\n",
       "    <tr>\n",
       "      <th>2021-02-19 00:00:00+00:00</th>\n",
       "      <td>1.0</td>\n",
       "      <td>-1.0</td>\n",
       "      <td>-1.0</td>\n",
       "    </tr>\n",
       "    <tr>\n",
       "      <th>2021-02-20 00:00:00+00:00</th>\n",
       "      <td>1.0</td>\n",
       "      <td>-1.0</td>\n",
       "      <td>-1.0</td>\n",
       "    </tr>\n",
       "    <tr>\n",
       "      <th>2021-02-21 00:00:00+00:00</th>\n",
       "      <td>1.0</td>\n",
       "      <td>-1.0</td>\n",
       "      <td>-1.0</td>\n",
       "    </tr>\n",
       "    <tr>\n",
       "      <th>2021-02-22 00:00:00+00:00</th>\n",
       "      <td>1.0</td>\n",
       "      <td>-1.0</td>\n",
       "      <td>-1.0</td>\n",
       "    </tr>\n",
       "    <tr>\n",
       "      <th>2021-02-23 00:00:00+00:00</th>\n",
       "      <td>1.0</td>\n",
       "      <td>-1.0</td>\n",
       "      <td>-1.0</td>\n",
       "    </tr>\n",
       "    <tr>\n",
       "      <th>2021-02-24 00:00:00+00:00</th>\n",
       "      <td>1.0</td>\n",
       "      <td>-1.0</td>\n",
       "      <td>-1.0</td>\n",
       "    </tr>\n",
       "    <tr>\n",
       "      <th>2021-02-25 00:00:00+00:00</th>\n",
       "      <td>1.0</td>\n",
       "      <td>-1.0</td>\n",
       "      <td>-1.0</td>\n",
       "    </tr>\n",
       "    <tr>\n",
       "      <th>2021-02-26 00:00:00+00:00</th>\n",
       "      <td>1.0</td>\n",
       "      <td>-1.0</td>\n",
       "      <td>-1.0</td>\n",
       "    </tr>\n",
       "    <tr>\n",
       "      <th>2021-02-27 00:00:00+00:00</th>\n",
       "      <td>1.0</td>\n",
       "      <td>-1.0</td>\n",
       "      <td>-1.0</td>\n",
       "    </tr>\n",
       "    <tr>\n",
       "      <th>2021-02-28 00:00:00+00:00</th>\n",
       "      <td>1.0</td>\n",
       "      <td>-1.0</td>\n",
       "      <td>-1.0</td>\n",
       "    </tr>\n",
       "    <tr>\n",
       "      <th>2021-03-01 00:00:00+00:00</th>\n",
       "      <td>1.0</td>\n",
       "      <td>-1.0</td>\n",
       "      <td>-1.0</td>\n",
       "    </tr>\n",
       "    <tr>\n",
       "      <th>2021-03-02 00:00:00+00:00</th>\n",
       "      <td>1.0</td>\n",
       "      <td>-1.0</td>\n",
       "      <td>-1.0</td>\n",
       "    </tr>\n",
       "    <tr>\n",
       "      <th>2021-03-03 00:00:00+00:00</th>\n",
       "      <td>1.0</td>\n",
       "      <td>-1.0</td>\n",
       "      <td>-1.0</td>\n",
       "    </tr>\n",
       "    <tr>\n",
       "      <th>2021-03-04 00:00:00+00:00</th>\n",
       "      <td>1.0</td>\n",
       "      <td>-1.0</td>\n",
       "      <td>-1.0</td>\n",
       "    </tr>\n",
       "    <tr>\n",
       "      <th>2021-03-05 00:00:00+00:00</th>\n",
       "      <td>1.0</td>\n",
       "      <td>-1.0</td>\n",
       "      <td>-1.0</td>\n",
       "    </tr>\n",
       "    <tr>\n",
       "      <th>2021-03-06 00:00:00+00:00</th>\n",
       "      <td>1.0</td>\n",
       "      <td>-1.0</td>\n",
       "      <td>-1.0</td>\n",
       "    </tr>\n",
       "    <tr>\n",
       "      <th>2021-03-07 00:00:00+00:00</th>\n",
       "      <td>1.0</td>\n",
       "      <td>-1.0</td>\n",
       "      <td>-1.0</td>\n",
       "    </tr>\n",
       "    <tr>\n",
       "      <th>2021-03-08 00:00:00+00:00</th>\n",
       "      <td>1.0</td>\n",
       "      <td>-1.0</td>\n",
       "      <td>-1.0</td>\n",
       "    </tr>\n",
       "    <tr>\n",
       "      <th>2021-03-09 00:00:00+00:00</th>\n",
       "      <td>1.0</td>\n",
       "      <td>-1.0</td>\n",
       "      <td>-1.0</td>\n",
       "    </tr>\n",
       "    <tr>\n",
       "      <th>2021-03-10 00:00:00+00:00</th>\n",
       "      <td>-1.0</td>\n",
       "      <td>-1.0</td>\n",
       "      <td>-1.0</td>\n",
       "    </tr>\n",
       "    <tr>\n",
       "      <th>2021-03-11 00:00:00+00:00</th>\n",
       "      <td>-1.0</td>\n",
       "      <td>-1.0</td>\n",
       "      <td>-1.0</td>\n",
       "    </tr>\n",
       "    <tr>\n",
       "      <th>2021-03-12 00:00:00+00:00</th>\n",
       "      <td>-1.0</td>\n",
       "      <td>-1.0</td>\n",
       "      <td>-1.0</td>\n",
       "    </tr>\n",
       "    <tr>\n",
       "      <th>2021-03-13 00:00:00+00:00</th>\n",
       "      <td>1.0</td>\n",
       "      <td>-1.0</td>\n",
       "      <td>-1.0</td>\n",
       "    </tr>\n",
       "    <tr>\n",
       "      <th>2021-03-14 00:00:00+00:00</th>\n",
       "      <td>1.0</td>\n",
       "      <td>-1.0</td>\n",
       "      <td>-1.0</td>\n",
       "    </tr>\n",
       "    <tr>\n",
       "      <th>2021-03-15 00:00:00+00:00</th>\n",
       "      <td>1.0</td>\n",
       "      <td>-1.0</td>\n",
       "      <td>-1.0</td>\n",
       "    </tr>\n",
       "    <tr>\n",
       "      <th>2021-03-16 00:00:00+00:00</th>\n",
       "      <td>1.0</td>\n",
       "      <td>-1.0</td>\n",
       "      <td>-1.0</td>\n",
       "    </tr>\n",
       "    <tr>\n",
       "      <th>2021-03-17 00:00:00+00:00</th>\n",
       "      <td>1.0</td>\n",
       "      <td>-1.0</td>\n",
       "      <td>-1.0</td>\n",
       "    </tr>\n",
       "    <tr>\n",
       "      <th>2021-03-18 00:00:00+00:00</th>\n",
       "      <td>1.0</td>\n",
       "      <td>-1.0</td>\n",
       "      <td>-1.0</td>\n",
       "    </tr>\n",
       "    <tr>\n",
       "      <th>2021-03-19 00:00:00+00:00</th>\n",
       "      <td>1.0</td>\n",
       "      <td>-1.0</td>\n",
       "      <td>-1.0</td>\n",
       "    </tr>\n",
       "    <tr>\n",
       "      <th>2021-03-20 00:00:00+00:00</th>\n",
       "      <td>1.0</td>\n",
       "      <td>-1.0</td>\n",
       "      <td>-1.0</td>\n",
       "    </tr>\n",
       "  </tbody>\n",
       "</table>\n",
       "<p>732 rows × 3 columns</p>\n",
       "</div>"
      ],
      "text/plain": [
       "                           crossover_signal  vol_trend_signal  \\\n",
       "time                                                            \n",
       "2019-03-20 00:00:00+00:00               0.0               0.0   \n",
       "2019-03-21 00:00:00+00:00              -1.0               0.0   \n",
       "2019-03-22 00:00:00+00:00               1.0               1.0   \n",
       "2019-03-23 00:00:00+00:00               1.0              -1.0   \n",
       "2019-03-24 00:00:00+00:00               1.0              -1.0   \n",
       "2019-03-25 00:00:00+00:00              -1.0              -1.0   \n",
       "2019-03-26 00:00:00+00:00              -1.0              -1.0   \n",
       "2019-03-27 00:00:00+00:00              -1.0               1.0   \n",
       "2019-03-28 00:00:00+00:00              -1.0               1.0   \n",
       "2019-03-29 00:00:00+00:00              -1.0               1.0   \n",
       "2019-03-30 00:00:00+00:00              -1.0              -1.0   \n",
       "2019-03-31 00:00:00+00:00              -1.0              -1.0   \n",
       "2019-04-01 00:00:00+00:00              -1.0              -1.0   \n",
       "2019-04-02 00:00:00+00:00               1.0               1.0   \n",
       "2019-04-03 00:00:00+00:00               1.0               1.0   \n",
       "2019-04-04 00:00:00+00:00               1.0               1.0   \n",
       "2019-04-05 00:00:00+00:00               1.0               1.0   \n",
       "2019-04-06 00:00:00+00:00               1.0               1.0   \n",
       "2019-04-07 00:00:00+00:00               1.0               1.0   \n",
       "2019-04-08 00:00:00+00:00               1.0               1.0   \n",
       "2019-04-09 00:00:00+00:00               1.0               1.0   \n",
       "2019-04-10 00:00:00+00:00               1.0               1.0   \n",
       "2019-04-11 00:00:00+00:00               1.0               1.0   \n",
       "2019-04-12 00:00:00+00:00               1.0               1.0   \n",
       "2019-04-13 00:00:00+00:00               1.0               1.0   \n",
       "2019-04-14 00:00:00+00:00               1.0              -1.0   \n",
       "2019-04-15 00:00:00+00:00               1.0               1.0   \n",
       "2019-04-16 00:00:00+00:00               1.0               1.0   \n",
       "2019-04-17 00:00:00+00:00              -1.0               1.0   \n",
       "2019-04-18 00:00:00+00:00              -1.0               1.0   \n",
       "...                                     ...               ...   \n",
       "2021-02-19 00:00:00+00:00               1.0              -1.0   \n",
       "2021-02-20 00:00:00+00:00               1.0              -1.0   \n",
       "2021-02-21 00:00:00+00:00               1.0              -1.0   \n",
       "2021-02-22 00:00:00+00:00               1.0              -1.0   \n",
       "2021-02-23 00:00:00+00:00               1.0              -1.0   \n",
       "2021-02-24 00:00:00+00:00               1.0              -1.0   \n",
       "2021-02-25 00:00:00+00:00               1.0              -1.0   \n",
       "2021-02-26 00:00:00+00:00               1.0              -1.0   \n",
       "2021-02-27 00:00:00+00:00               1.0              -1.0   \n",
       "2021-02-28 00:00:00+00:00               1.0              -1.0   \n",
       "2021-03-01 00:00:00+00:00               1.0              -1.0   \n",
       "2021-03-02 00:00:00+00:00               1.0              -1.0   \n",
       "2021-03-03 00:00:00+00:00               1.0              -1.0   \n",
       "2021-03-04 00:00:00+00:00               1.0              -1.0   \n",
       "2021-03-05 00:00:00+00:00               1.0              -1.0   \n",
       "2021-03-06 00:00:00+00:00               1.0              -1.0   \n",
       "2021-03-07 00:00:00+00:00               1.0              -1.0   \n",
       "2021-03-08 00:00:00+00:00               1.0              -1.0   \n",
       "2021-03-09 00:00:00+00:00               1.0              -1.0   \n",
       "2021-03-10 00:00:00+00:00              -1.0              -1.0   \n",
       "2021-03-11 00:00:00+00:00              -1.0              -1.0   \n",
       "2021-03-12 00:00:00+00:00              -1.0              -1.0   \n",
       "2021-03-13 00:00:00+00:00               1.0              -1.0   \n",
       "2021-03-14 00:00:00+00:00               1.0              -1.0   \n",
       "2021-03-15 00:00:00+00:00               1.0              -1.0   \n",
       "2021-03-16 00:00:00+00:00               1.0              -1.0   \n",
       "2021-03-17 00:00:00+00:00               1.0              -1.0   \n",
       "2021-03-18 00:00:00+00:00               1.0              -1.0   \n",
       "2021-03-19 00:00:00+00:00               1.0              -1.0   \n",
       "2021-03-20 00:00:00+00:00               1.0              -1.0   \n",
       "\n",
       "                           bollinger_signal  \n",
       "time                                         \n",
       "2019-03-20 00:00:00+00:00               0.0  \n",
       "2019-03-21 00:00:00+00:00               0.0  \n",
       "2019-03-22 00:00:00+00:00               0.0  \n",
       "2019-03-23 00:00:00+00:00               0.0  \n",
       "2019-03-24 00:00:00+00:00               0.0  \n",
       "2019-03-25 00:00:00+00:00               0.0  \n",
       "2019-03-26 00:00:00+00:00               0.0  \n",
       "2019-03-27 00:00:00+00:00               0.0  \n",
       "2019-03-28 00:00:00+00:00               0.0  \n",
       "2019-03-29 00:00:00+00:00               0.0  \n",
       "2019-03-30 00:00:00+00:00               0.0  \n",
       "2019-03-31 00:00:00+00:00               0.0  \n",
       "2019-04-01 00:00:00+00:00               0.0  \n",
       "2019-04-02 00:00:00+00:00               0.0  \n",
       "2019-04-03 00:00:00+00:00               0.0  \n",
       "2019-04-04 00:00:00+00:00               0.0  \n",
       "2019-04-05 00:00:00+00:00               0.0  \n",
       "2019-04-06 00:00:00+00:00               0.0  \n",
       "2019-04-07 00:00:00+00:00               0.0  \n",
       "2019-04-08 00:00:00+00:00              -1.0  \n",
       "2019-04-09 00:00:00+00:00              -1.0  \n",
       "2019-04-10 00:00:00+00:00              -1.0  \n",
       "2019-04-11 00:00:00+00:00              -1.0  \n",
       "2019-04-12 00:00:00+00:00              -1.0  \n",
       "2019-04-13 00:00:00+00:00              -1.0  \n",
       "2019-04-14 00:00:00+00:00              -1.0  \n",
       "2019-04-15 00:00:00+00:00              -1.0  \n",
       "2019-04-16 00:00:00+00:00              -1.0  \n",
       "2019-04-17 00:00:00+00:00              -1.0  \n",
       "2019-04-18 00:00:00+00:00              -1.0  \n",
       "...                                     ...  \n",
       "2021-02-19 00:00:00+00:00              -1.0  \n",
       "2021-02-20 00:00:00+00:00              -1.0  \n",
       "2021-02-21 00:00:00+00:00              -1.0  \n",
       "2021-02-22 00:00:00+00:00              -1.0  \n",
       "2021-02-23 00:00:00+00:00              -1.0  \n",
       "2021-02-24 00:00:00+00:00              -1.0  \n",
       "2021-02-25 00:00:00+00:00              -1.0  \n",
       "2021-02-26 00:00:00+00:00              -1.0  \n",
       "2021-02-27 00:00:00+00:00              -1.0  \n",
       "2021-02-28 00:00:00+00:00              -1.0  \n",
       "2021-03-01 00:00:00+00:00              -1.0  \n",
       "2021-03-02 00:00:00+00:00              -1.0  \n",
       "2021-03-03 00:00:00+00:00              -1.0  \n",
       "2021-03-04 00:00:00+00:00              -1.0  \n",
       "2021-03-05 00:00:00+00:00              -1.0  \n",
       "2021-03-06 00:00:00+00:00              -1.0  \n",
       "2021-03-07 00:00:00+00:00              -1.0  \n",
       "2021-03-08 00:00:00+00:00              -1.0  \n",
       "2021-03-09 00:00:00+00:00              -1.0  \n",
       "2021-03-10 00:00:00+00:00              -1.0  \n",
       "2021-03-11 00:00:00+00:00              -1.0  \n",
       "2021-03-12 00:00:00+00:00              -1.0  \n",
       "2021-03-13 00:00:00+00:00              -1.0  \n",
       "2021-03-14 00:00:00+00:00              -1.0  \n",
       "2021-03-15 00:00:00+00:00              -1.0  \n",
       "2021-03-16 00:00:00+00:00              -1.0  \n",
       "2021-03-17 00:00:00+00:00              -1.0  \n",
       "2021-03-18 00:00:00+00:00              -1.0  \n",
       "2021-03-19 00:00:00+00:00              -1.0  \n",
       "2021-03-20 00:00:00+00:00              -1.0  \n",
       "\n",
       "[732 rows x 3 columns]"
      ]
     },
     "execution_count": 23,
     "metadata": {},
     "output_type": "execute_result"
    }
   ],
   "source": [
    "# Set x variable list of features\n",
    "x_var_list = ['crossover_signal', 'vol_trend_signal', 'bollinger_signal']\n",
    "\n",
    "# Filter by x-variable list\n",
    "btc_trading_signals_df[x_var_list]\n",
    "eth_trading_signals_df[x_var_list]\n",
    "ada_trading_signals_df[x_var_list]\n",
    "usdt_trading_signals_df[x_var_list]\n",
    "xrp_trading_signals_df[x_var_list]\n",
    "ltc_trading_signals_df[x_var_list]\n",
    "trx_trading_signals_df[x_var_list]\n",
    "tusd_trading_signals_df[x_var_list]\n",
    "dgb_trading_signals_df[x_var_list]\n",
    "bsv_trading_signals_df[x_var_list]"
   ]
  },
  {
   "cell_type": "code",
   "execution_count": 24,
   "metadata": {},
   "outputs": [],
   "source": [
    "# Shift DataFrame values by 1\n",
    "btc_trading_signals_df[x_var_list] = btc_trading_signals_df[x_var_list].shift(1)\n",
    "eth_trading_signals_df[x_var_list] = eth_trading_signals_df[x_var_list].shift(1)\n",
    "ada_trading_signals_df[x_var_list] = ada_trading_signals_df[x_var_list].shift(1)\n",
    "usdt_trading_signals_df[x_var_list] = usdt_trading_signals_df[x_var_list].shift(1)\n",
    "xrp_trading_signals_df[x_var_list] = xrp_trading_signals_df[x_var_list].shift(1)\n",
    "ltc_trading_signals_df[x_var_list] = ltc_trading_signals_df[x_var_list].shift(1)\n",
    "trx_trading_signals_df[x_var_list] = trx_trading_signals_df[x_var_list].shift(1)\n",
    "tusd_trading_signals_df[x_var_list] = tusd_trading_signals_df[x_var_list].shift(1)\n",
    "dgb_trading_signals_df[x_var_list] = dgb_trading_signals_df[x_var_list].shift(1)\n",
    "bsv_trading_signals_df[x_var_list] = bsv_trading_signals_df[x_var_list].shift(1)"
   ]
  },
  {
   "cell_type": "code",
   "execution_count": 25,
   "metadata": {},
   "outputs": [],
   "source": [
    "# Drop NAs and replace positive/negative infinity values\n",
    "btc_trading_signals_df.dropna(subset=x_var_list, inplace=True)\n",
    "btc_trading_signals_df.dropna(subset=['BTC daily_return'], inplace=True)\n",
    "btc_trading_signals_df = btc_trading_signals_df.replace([np.inf, -np.inf], np.nan)\n",
    "\n",
    "eth_trading_signals_df.dropna(subset=x_var_list, inplace=True)\n",
    "eth_trading_signals_df.dropna(subset=['ETH daily_return'], inplace=True)\n",
    "eth_trading_signals_df = eth_trading_signals_df.replace([np.inf, -np.inf], np.nan)\n",
    "\n",
    "ada_trading_signals_df.dropna(subset=x_var_list, inplace=True)\n",
    "ada_trading_signals_df.dropna(subset=['ADA daily_return'], inplace=True)\n",
    "ada_trading_signals_df = ada_trading_signals_df.replace([np.inf, -np.inf], np.nan)\n",
    "\n",
    "usdt_trading_signals_df.dropna(subset=x_var_list, inplace=True)\n",
    "usdt_trading_signals_df.dropna(subset=['USDT daily_return'], inplace=True)\n",
    "usdt_trading_signals_df = usdt_trading_signals_df.replace([np.inf, -np.inf], np.nan)\n",
    "\n",
    "xrp_trading_signals_df.dropna(subset=x_var_list, inplace=True)\n",
    "xrp_trading_signals_df.dropna(subset=['XRP daily_return'], inplace=True)\n",
    "xrp_trading_signals_df = xrp_trading_signals_df.replace([np.inf, -np.inf], np.nan)\n",
    "\n",
    "ltc_trading_signals_df.dropna(subset=x_var_list, inplace=True)\n",
    "ltc_trading_signals_df.dropna(subset=['LTC daily_return'], inplace=True)\n",
    "ltc_trading_signals_df = ltc_trading_signals_df.replace([np.inf, -np.inf], np.nan)\n",
    "\n",
    "trx_trading_signals_df.dropna(subset=x_var_list, inplace=True)\n",
    "trx_trading_signals_df.dropna(subset=['TRX daily_return'], inplace=True)\n",
    "trx_trading_signals_df = trx_trading_signals_df.replace([np.inf, -np.inf], np.nan)\n",
    "\n",
    "tusd_trading_signals_df.dropna(subset=x_var_list, inplace=True)\n",
    "tusd_trading_signals_df.dropna(subset=['TUSD daily_return'], inplace=True)\n",
    "tusd_trading_signals_df = tusd_trading_signals_df.replace([np.inf, -np.inf], np.nan)\n",
    "\n",
    "dgb_trading_signals_df.dropna(subset=x_var_list, inplace=True)\n",
    "dgb_trading_signals_df.dropna(subset=['DGB daily_return'], inplace=True)\n",
    "dgb_trading_signals_df = dgb_trading_signals_df.replace([np.inf, -np.inf], np.nan)\n",
    "\n",
    "bsv_trading_signals_df.dropna(subset=x_var_list, inplace=True)\n",
    "bsv_trading_signals_df.dropna(subset=['BSV daily_return'], inplace=True)\n",
    "bsv_trading_signals_df = bsv_trading_signals_df.replace([np.inf, -np.inf], np.nan)\n"
   ]
  },
  {
   "cell_type": "code",
   "execution_count": 26,
   "metadata": {},
   "outputs": [],
   "source": [
    "# Construct the dependent variable where if daily return is greater than 0, then 1, else, 0.\n",
    "btc_trading_signals_df['Positive Return'] = np.where(btc_trading_signals_df['BTC daily_return'] > 0, 1.0, 0.0)\n",
    "\n",
    "eth_trading_signals_df['Positive Return'] = np.where(eth_trading_signals_df['ETH daily_return'] > 0, 1.0, 0.0)\n",
    "\n",
    "ada_trading_signals_df['Positive Return'] = np.where(ada_trading_signals_df['ADA daily_return'] > 0, 1.0, 0.0)\n",
    "\n",
    "usdt_trading_signals_df['Positive Return'] = np.where(usdt_trading_signals_df['USDT daily_return'] > 0, 1.0, 0.0)\n",
    "\n",
    "xrp_trading_signals_df['Positive Return'] = np.where(xrp_trading_signals_df['XRP daily_return'] > 0, 1.0, 0.0)\n",
    "\n",
    "ltc_trading_signals_df['Positive Return'] = np.where(ltc_trading_signals_df['LTC daily_return'] > 0, 1.0, 0.0)\n",
    "\n",
    "trx_trading_signals_df['Positive Return'] = np.where(trx_trading_signals_df['TRX daily_return'] > 0, 1.0, 0.0)\n",
    "\n",
    "tusd_trading_signals_df['Positive Return'] = np.where(tusd_trading_signals_df['TUSD daily_return'] > 0, 1.0, 0.0)\n",
    "\n",
    "dgb_trading_signals_df['Positive Return'] = np.where(dgb_trading_signals_df['DGB daily_return'] > 0, 1.0, 0.0)\n",
    "\n",
    "bsv_trading_signals_df['Positive Return'] = np.where(bsv_trading_signals_df['BSV daily_return'] > 0, 1.0, 0.0)\n"
   ]
  },
  {
   "cell_type": "code",
   "execution_count": 27,
   "metadata": {},
   "outputs": [],
   "source": [
    "# Construct training start and end dates\n",
    "training_start = btc_trading_signals_df.index.min().strftime(format= '%Y-%m-%d')\n",
    "training_end = '2021-03-20'\n",
    "\n",
    "# Construct testing start and end dates\n",
    "testing_start =  '2019-03-20'\n",
    "testing_end = btc_trading_signals_df.index.max().strftime(format= '%Y-%m-%d')"
   ]
  },
  {
   "cell_type": "code",
   "execution_count": 28,
   "metadata": {},
   "outputs": [],
   "source": [
    "# Construct the X_train and y_train datasets\n",
    "btc_X_train = btc_trading_signals_df[x_var_list][training_start:training_end]\n",
    "btc_y_train = btc_trading_signals_df['Positive Return'][training_start:training_end]\n",
    "\n",
    "eth_X_train = eth_trading_signals_df[x_var_list][training_start:training_end]\n",
    "eth_y_train = eth_trading_signals_df['Positive Return'][training_start:training_end]\n",
    "\n",
    "ada_X_train = ada_trading_signals_df[x_var_list][training_start:training_end]\n",
    "ada_y_train = ada_trading_signals_df['Positive Return'][training_start:training_end]\n",
    "\n",
    "usdt_X_train = usdt_trading_signals_df[x_var_list][training_start:training_end]\n",
    "usdt_y_train = usdt_trading_signals_df['Positive Return'][training_start:training_end]\n",
    "\n",
    "xrp_X_train = xrp_trading_signals_df[x_var_list][training_start:training_end]\n",
    "xrp_y_train = xrp_trading_signals_df['Positive Return'][training_start:training_end]\n",
    "\n",
    "ltc_X_train = ltc_trading_signals_df[x_var_list][training_start:training_end]\n",
    "ltc_y_train = ltc_trading_signals_df['Positive Return'][training_start:training_end]\n",
    "\n",
    "trx_X_train = trx_trading_signals_df[x_var_list][training_start:training_end]\n",
    "trx_y_train = trx_trading_signals_df['Positive Return'][training_start:training_end]\n",
    "\n",
    "tusd_X_train = tusd_trading_signals_df[x_var_list][training_start:training_end]\n",
    "tusd_y_train = tusd_trading_signals_df['Positive Return'][training_start:training_end]\n",
    "\n",
    "dgb_X_train = dgb_trading_signals_df[x_var_list][training_start:training_end]\n",
    "dgb_y_train = dgb_trading_signals_df['Positive Return'][training_start:training_end]\n",
    "\n",
    "bsv_X_train = bsv_trading_signals_df[x_var_list][training_start:training_end]\n",
    "bsv_y_train = bsv_trading_signals_df['Positive Return'][training_start:training_end]"
   ]
  },
  {
   "cell_type": "code",
   "execution_count": 29,
   "metadata": {},
   "outputs": [],
   "source": [
    "# Construct the X test and y test datasets\n",
    "btc_X_test = btc_trading_signals_df[x_var_list][training_start:training_end]\n",
    "btc_y_test = btc_trading_signals_df['Positive Return'][training_start:training_end]\n",
    "\n",
    "eth_X_test = eth_trading_signals_df[x_var_list][training_start:training_end]\n",
    "eth_y_test = eth_trading_signals_df['Positive Return'][training_start:training_end]\n",
    "\n",
    "ada_X_test = ada_trading_signals_df[x_var_list][training_start:training_end]\n",
    "ada_y_test = ada_trading_signals_df['Positive Return'][training_start:training_end]\n",
    "\n",
    "usdt_X_test = usdt_trading_signals_df[x_var_list][training_start:training_end]\n",
    "usdt_y_test = usdt_trading_signals_df['Positive Return'][training_start:training_end]\n",
    "\n",
    "xrp_X_test = xrp_trading_signals_df[x_var_list][training_start:training_end]\n",
    "xrp_y_test = xrp_trading_signals_df['Positive Return'][training_start:training_end]\n",
    "\n",
    "ltc_X_test = ltc_trading_signals_df[x_var_list][training_start:training_end]\n",
    "ltc_y_test = ltc_trading_signals_df['Positive Return'][training_start:training_end]\n",
    "\n",
    "trx_X_test = trx_trading_signals_df[x_var_list][training_start:training_end]\n",
    "trx_y_test = trx_trading_signals_df['Positive Return'][training_start:training_end]\n",
    "\n",
    "tusd_X_test = tusd_trading_signals_df[x_var_list][training_start:training_end]\n",
    "tusd_y_test = tusd_trading_signals_df['Positive Return'][training_start:training_end]\n",
    "\n",
    "dgb_X_test = dgb_trading_signals_df[x_var_list][training_start:training_end]\n",
    "dgb_y_test = dgb_trading_signals_df['Positive Return'][training_start:training_end]\n",
    "\n",
    "bsv_X_test = bsv_trading_signals_df[x_var_list][training_start:training_end]\n",
    "bsv_y_test = bsv_trading_signals_df['Positive Return'][training_start:training_end]"
   ]
  },
  {
   "cell_type": "code",
   "execution_count": 49,
   "metadata": {},
   "outputs": [],
   "source": [
    "# Fit a SKLearn linear regression using just the training set (X_train, Y_train):\n",
    "btc_model = RandomForestClassifier(n_estimators=100, max_depth=3, random_state=0)\n",
    "btc_model.fit(btc_X_train, btc_y_train)\n",
    "\n",
    "eth_model = RandomForestClassifier(n_estimators=100, max_depth=3, random_state=0)\n",
    "eth_model.fit(eth_X_train, eth_y_train)\n",
    "\n",
    "ada_model = RandomForestClassifier(n_estimators=100, max_depth=3, random_state=0)\n",
    "ada_model.fit(ada_X_train, ada_y_train)\n",
    "\n",
    "usdt_model = RandomForestClassifier(n_estimators=100, max_depth=3, random_state=0)\n",
    "usdt_model.fit(usdt_X_train, usdt_y_train)\n",
    "\n",
    "xrp_model = RandomForestClassifier(n_estimators=100, max_depth=3, random_state=0)\n",
    "xrp_model.fit(xrp_X_train, xrp_y_train)\n",
    "\n",
    "ltc_model = RandomForestClassifier(n_estimators=100, max_depth=3, random_state=0)\n",
    "ltc_model.fit(ltc_X_train, ltc_y_train)\n",
    "\n",
    "trx_model = RandomForestClassifier(n_estimators=100, max_depth=3, random_state=0)\n",
    "trx_model.fit(trx_X_train, trx_y_train)\n",
    "\n",
    "tusd_model = RandomForestClassifier(n_estimators=100, max_depth=3, random_state=0)\n",
    "tusd_model.fit(tusd_X_train, tusd_y_train)\n",
    "\n",
    "dgb_model = RandomForestClassifier(n_estimators=100, max_depth=3, random_state=0)\n",
    "dgb_model.fit(dgb_X_train, dgb_y_train)\n",
    "\n",
    "bsv_model = RandomForestClassifier(n_estimators=100, max_depth=3, random_state=0)\n",
    "bsv_model.fit(bsv_X_train, bsv_y_train)\n",
    "\n",
    "# Make a prediction of \"y\" values from the X_test dataset\n",
    "btc_predictions = btc_model.predict(btc_X_test)\n",
    "\n",
    "eth_predictions = eth_model.predict(eth_X_test)\n",
    "\n",
    "ada_predictions = ada_model.predict(ada_X_test)\n",
    "\n",
    "usdt_predictions = usdt_model.predict(usdt_X_test)\n",
    "\n",
    "xrp_predictions = xrp_model.predict(xrp_X_test)\n",
    "\n",
    "ltc_predictions = ltc_model.predict(ltc_X_test)\n",
    "\n",
    "trx_predictions = trx_model.predict(trx_X_test)\n",
    "\n",
    "tusd_predictions = tusd_model.predict(tusd_X_test)\n",
    "\n",
    "dgb_predictions = dgb_model.predict(dgb_X_test)\n",
    "\n",
    "bsv_predictions = bsv_model.predict(bsv_X_test)\n",
    "\n",
    "# Assemble actual y data (Y_test) with predicted y data (from just above) into two columns in a dataframe:\n",
    "btc_results = btc_y_test.to_frame()\n",
    "btc_results[\"Predicted Value\"] = btc_predictions\n",
    "\n",
    "eth_results = eth_y_test.to_frame()\n",
    "eth_results[\"Predicted Value\"] = eth_predictions\n",
    "\n",
    "ada_results = ada_y_test.to_frame()\n",
    "ada_results[\"Predicted Value\"] = ada_predictions\n",
    "\n",
    "usdt_results = usdt_y_test.to_frame()\n",
    "usdt_results[\"Predicted Value\"] = usdt_predictions\n",
    "\n",
    "xrp_results = xrp_y_test.to_frame()\n",
    "xrp_results[\"Predicted Value\"] = xrp_predictions\n",
    "\n",
    "ltc_results = ltc_y_test.to_frame()\n",
    "ltc_results[\"Predicted Value\"] = ltc_predictions\n",
    "\n",
    "trx_results = trx_y_test.to_frame()\n",
    "trx_results[\"Predicted Value\"] = trx_predictions\n",
    "\n",
    "tusd_results = tusd_y_test.to_frame()\n",
    "tusd_results[\"Predicted Value\"] = tusd_predictions\n",
    "\n",
    "dgb_results = dgb_y_test.to_frame()\n",
    "dgb_results[\"Predicted Value\"] = dgb_predictions\n",
    "\n",
    "bsv_results = bsv_y_test.to_frame()\n",
    "bsv_results[\"Predicted Value\"] = bsv_predictions"
   ]
  },
  {
   "cell_type": "code",
   "execution_count": 50,
   "metadata": {},
   "outputs": [],
   "source": [
    "from sklearn.metrics import confusion_matrix, accuracy_score, classification_report\n",
    "# Calculating the confusion matrix\n",
    "btc_cm = confusion_matrix(btc_y_test, btc_predictions)\n",
    "btc_cm_df = pd.DataFrame(btc_cm, index=[\"Actual 0\", \"Actual 1\"], columns=[\"Predicted 0\", \"Predicted 1\"])\n",
    "\n",
    "eth_cm = confusion_matrix(eth_y_test, eth_predictions)\n",
    "eth_cm_df = pd.DataFrame(eth_cm, index=[\"Actual 0\", \"Actual 1\"], columns=[\"Predicted 0\", \"Predicted 1\"])\n",
    "\n",
    "ada_cm = confusion_matrix(ada_y_test, ada_predictions)\n",
    "ada_cm_df = pd.DataFrame(ada_cm, index=[\"Actual 0\", \"Actual 1\"], columns=[\"Predicted 0\", \"Predicted 1\"])\n",
    "\n",
    "usdt_cm = confusion_matrix(usdt_y_test, usdt_predictions)\n",
    "usdt_cm_df = pd.DataFrame(usdt_cm, index=[\"Actual 0\", \"Actual 1\"], columns=[\"Predicted 0\", \"Predicted 1\"])\n",
    "\n",
    "xrp_cm = confusion_matrix(xrp_y_test, xrp_predictions)\n",
    "xrp_cm_df = pd.DataFrame(xrp_cm, index=[\"Actual 0\", \"Actual 1\"], columns=[\"Predicted 0\", \"Predicted 1\"])\n",
    "\n",
    "ltc_cm = confusion_matrix(ltc_y_test, ltc_predictions)\n",
    "ltc_cm_df = pd.DataFrame(ltc_cm, index=[\"Actual 0\", \"Actual 1\"], columns=[\"Predicted 0\", \"Predicted 1\"])\n",
    "\n",
    "trx_cm = confusion_matrix(trx_y_test, trx_predictions)\n",
    "trx_cm_df = pd.DataFrame(trx_cm, index=[\"Actual 0\", \"Actual 1\"], columns=[\"Predicted 0\", \"Predicted 1\"])\n",
    "\n",
    "tusd_cm = confusion_matrix(tusd_y_test, tusd_predictions)\n",
    "tusd_cm_df = pd.DataFrame(tusd_cm, index=[\"Actual 0\", \"Actual 1\"], columns=[\"Predicted 0\", \"Predicted 1\"])\n",
    "\n",
    "dgb_cm = confusion_matrix(dgb_y_test, dgb_predictions)\n",
    "dgb_cm_df = pd.DataFrame(dgb_cm, index=[\"Actual 0\", \"Actual 1\"], columns=[\"Predicted 0\", \"Predicted 1\"])\n",
    "\n",
    "bsv_cm = confusion_matrix(bsv_y_test, bsv_predictions)\n",
    "bsv_cm_df = pd.DataFrame(bsv_cm, index=[\"Actual 0\", \"Actual 1\"], columns=[\"Predicted 0\", \"Predicted 1\"])\n",
    "\n",
    "# Calculating the accuracy score\n",
    "btc_acc_score = accuracy_score(btc_y_test, btc_predictions)\n",
    "\n",
    "eth_acc_score = accuracy_score(eth_y_test, eth_predictions)\n",
    "\n",
    "ada_acc_score = accuracy_score(ada_y_test, ada_predictions)\n",
    "\n",
    "usdt_acc_score = accuracy_score(usdt_y_test, usdt_predictions)\n",
    "\n",
    "xrp_acc_score = accuracy_score(xrp_y_test, xrp_predictions)\n",
    "\n",
    "ltc_acc_score = accuracy_score(ltc_y_test, ltc_predictions)\n",
    "\n",
    "trx_acc_score = accuracy_score(trx_y_test, trx_predictions)\n",
    "\n",
    "tusd_acc_score = accuracy_score(tusd_y_test, tusd_predictions)\n",
    "\n",
    "dgb_acc_score = accuracy_score(dgb_y_test, dgb_predictions)\n",
    "\n",
    "bsv_acc_score = accuracy_score(bsv_y_test, bsv_predictions)"
   ]
  },
  {
   "cell_type": "code",
   "execution_count": 32,
   "metadata": {},
   "outputs": [
    {
     "name": "stdout",
     "output_type": "stream",
     "text": [
      "Confusion Matrix\n"
     ]
    },
    {
     "data": {
      "text/html": [
       "<div>\n",
       "<style scoped>\n",
       "    .dataframe tbody tr th:only-of-type {\n",
       "        vertical-align: middle;\n",
       "    }\n",
       "\n",
       "    .dataframe tbody tr th {\n",
       "        vertical-align: top;\n",
       "    }\n",
       "\n",
       "    .dataframe thead th {\n",
       "        text-align: right;\n",
       "    }\n",
       "</style>\n",
       "<table border=\"1\" class=\"dataframe\">\n",
       "  <thead>\n",
       "    <tr style=\"text-align: right;\">\n",
       "      <th></th>\n",
       "      <th>Predicted 0</th>\n",
       "      <th>Predicted 1</th>\n",
       "    </tr>\n",
       "  </thead>\n",
       "  <tbody>\n",
       "    <tr>\n",
       "      <th>Actual 0</th>\n",
       "      <td>50</td>\n",
       "      <td>279</td>\n",
       "    </tr>\n",
       "    <tr>\n",
       "      <th>Actual 1</th>\n",
       "      <td>41</td>\n",
       "      <td>361</td>\n",
       "    </tr>\n",
       "  </tbody>\n",
       "</table>\n",
       "</div>"
      ],
      "text/plain": [
       "          Predicted 0  Predicted 1\n",
       "Actual 0           50          279\n",
       "Actual 1           41          361"
      ]
     },
     "metadata": {},
     "output_type": "display_data"
    },
    {
     "name": "stdout",
     "output_type": "stream",
     "text": [
      "Accuracy Score : 0.5622435020519836\n",
      "Classification Report\n",
      "              precision    recall  f1-score   support\n",
      "\n",
      "         0.0       0.55      0.15      0.24       329\n",
      "         1.0       0.56      0.90      0.69       402\n",
      "\n",
      "    accuracy                           0.56       731\n",
      "   macro avg       0.56      0.52      0.47       731\n",
      "weighted avg       0.56      0.56      0.49       731\n",
      "\n"
     ]
    }
   ],
   "source": [
    "# Displaying results for BTC\n",
    "print(\"Confusion Matrix\")\n",
    "display(btc_cm_df)\n",
    "print(f\"Accuracy Score : {btc_acc_score}\")\n",
    "print(\"Classification Report\")\n",
    "print(classification_report(btc_y_test, btc_predictions))"
   ]
  },
  {
   "cell_type": "code",
   "execution_count": 51,
   "metadata": {},
   "outputs": [
    {
     "name": "stdout",
     "output_type": "stream",
     "text": [
      "Confusion Matrix\n"
     ]
    },
    {
     "data": {
      "text/html": [
       "<div>\n",
       "<style scoped>\n",
       "    .dataframe tbody tr th:only-of-type {\n",
       "        vertical-align: middle;\n",
       "    }\n",
       "\n",
       "    .dataframe tbody tr th {\n",
       "        vertical-align: top;\n",
       "    }\n",
       "\n",
       "    .dataframe thead th {\n",
       "        text-align: right;\n",
       "    }\n",
       "</style>\n",
       "<table border=\"1\" class=\"dataframe\">\n",
       "  <thead>\n",
       "    <tr style=\"text-align: right;\">\n",
       "      <th></th>\n",
       "      <th>Predicted 0</th>\n",
       "      <th>Predicted 1</th>\n",
       "    </tr>\n",
       "  </thead>\n",
       "  <tbody>\n",
       "    <tr>\n",
       "      <th>Actual 0</th>\n",
       "      <td>150</td>\n",
       "      <td>197</td>\n",
       "    </tr>\n",
       "    <tr>\n",
       "      <th>Actual 1</th>\n",
       "      <td>120</td>\n",
       "      <td>264</td>\n",
       "    </tr>\n",
       "  </tbody>\n",
       "</table>\n",
       "</div>"
      ],
      "text/plain": [
       "          Predicted 0  Predicted 1\n",
       "Actual 0          150          197\n",
       "Actual 1          120          264"
      ]
     },
     "metadata": {},
     "output_type": "display_data"
    },
    {
     "name": "stdout",
     "output_type": "stream",
     "text": [
      "Accuracy Score : 0.5663474692202463\n",
      "Classification Report\n",
      "              precision    recall  f1-score   support\n",
      "\n",
      "         0.0       0.56      0.43      0.49       347\n",
      "         1.0       0.57      0.69      0.62       384\n",
      "\n",
      "    accuracy                           0.57       731\n",
      "   macro avg       0.56      0.56      0.56       731\n",
      "weighted avg       0.56      0.57      0.56       731\n",
      "\n"
     ]
    }
   ],
   "source": [
    "# Displaying results for ETH\n",
    "print(\"Confusion Matrix\")\n",
    "display(eth_cm_df)\n",
    "print(f\"Accuracy Score : {eth_acc_score}\")\n",
    "print(\"Classification Report\")\n",
    "print(classification_report(eth_y_test, eth_predictions))"
   ]
  },
  {
   "cell_type": "code",
   "execution_count": 52,
   "metadata": {},
   "outputs": [
    {
     "name": "stdout",
     "output_type": "stream",
     "text": [
      "Confusion Matrix\n"
     ]
    },
    {
     "data": {
      "text/html": [
       "<div>\n",
       "<style scoped>\n",
       "    .dataframe tbody tr th:only-of-type {\n",
       "        vertical-align: middle;\n",
       "    }\n",
       "\n",
       "    .dataframe tbody tr th {\n",
       "        vertical-align: top;\n",
       "    }\n",
       "\n",
       "    .dataframe thead th {\n",
       "        text-align: right;\n",
       "    }\n",
       "</style>\n",
       "<table border=\"1\" class=\"dataframe\">\n",
       "  <thead>\n",
       "    <tr style=\"text-align: right;\">\n",
       "      <th></th>\n",
       "      <th>Predicted 0</th>\n",
       "      <th>Predicted 1</th>\n",
       "    </tr>\n",
       "  </thead>\n",
       "  <tbody>\n",
       "    <tr>\n",
       "      <th>Actual 0</th>\n",
       "      <td>97</td>\n",
       "      <td>251</td>\n",
       "    </tr>\n",
       "    <tr>\n",
       "      <th>Actual 1</th>\n",
       "      <td>77</td>\n",
       "      <td>306</td>\n",
       "    </tr>\n",
       "  </tbody>\n",
       "</table>\n",
       "</div>"
      ],
      "text/plain": [
       "          Predicted 0  Predicted 1\n",
       "Actual 0           97          251\n",
       "Actual 1           77          306"
      ]
     },
     "metadata": {},
     "output_type": "display_data"
    },
    {
     "name": "stdout",
     "output_type": "stream",
     "text": [
      "Accuracy Score : 0.5512995896032832\n",
      "Classification Report\n",
      "              precision    recall  f1-score   support\n",
      "\n",
      "         0.0       0.56      0.28      0.37       348\n",
      "         1.0       0.55      0.80      0.65       383\n",
      "\n",
      "    accuracy                           0.55       731\n",
      "   macro avg       0.55      0.54      0.51       731\n",
      "weighted avg       0.55      0.55      0.52       731\n",
      "\n"
     ]
    }
   ],
   "source": [
    "# Displaying results for ADA\n",
    "print(\"Confusion Matrix\")\n",
    "display(ada_cm_df)\n",
    "print(f\"Accuracy Score : {ada_acc_score}\")\n",
    "print(\"Classification Report\")\n",
    "print(classification_report(ada_y_test, ada_predictions))"
   ]
  },
  {
   "cell_type": "code",
   "execution_count": 53,
   "metadata": {},
   "outputs": [
    {
     "name": "stdout",
     "output_type": "stream",
     "text": [
      "Confusion Matrix\n"
     ]
    },
    {
     "data": {
      "text/html": [
       "<div>\n",
       "<style scoped>\n",
       "    .dataframe tbody tr th:only-of-type {\n",
       "        vertical-align: middle;\n",
       "    }\n",
       "\n",
       "    .dataframe tbody tr th {\n",
       "        vertical-align: top;\n",
       "    }\n",
       "\n",
       "    .dataframe thead th {\n",
       "        text-align: right;\n",
       "    }\n",
       "</style>\n",
       "<table border=\"1\" class=\"dataframe\">\n",
       "  <thead>\n",
       "    <tr style=\"text-align: right;\">\n",
       "      <th></th>\n",
       "      <th>Predicted 0</th>\n",
       "      <th>Predicted 1</th>\n",
       "    </tr>\n",
       "  </thead>\n",
       "  <tbody>\n",
       "    <tr>\n",
       "      <th>Actual 0</th>\n",
       "      <td>174</td>\n",
       "      <td>191</td>\n",
       "    </tr>\n",
       "    <tr>\n",
       "      <th>Actual 1</th>\n",
       "      <td>107</td>\n",
       "      <td>259</td>\n",
       "    </tr>\n",
       "  </tbody>\n",
       "</table>\n",
       "</div>"
      ],
      "text/plain": [
       "          Predicted 0  Predicted 1\n",
       "Actual 0          174          191\n",
       "Actual 1          107          259"
      ]
     },
     "metadata": {},
     "output_type": "display_data"
    },
    {
     "name": "stdout",
     "output_type": "stream",
     "text": [
      "Accuracy Score : 0.5923392612859097\n",
      "Classification Report\n",
      "              precision    recall  f1-score   support\n",
      "\n",
      "         0.0       0.62      0.48      0.54       365\n",
      "         1.0       0.58      0.71      0.63       366\n",
      "\n",
      "    accuracy                           0.59       731\n",
      "   macro avg       0.60      0.59      0.59       731\n",
      "weighted avg       0.60      0.59      0.59       731\n",
      "\n"
     ]
    }
   ],
   "source": [
    "# Displaying results for USDT\n",
    "print(\"Confusion Matrix\")\n",
    "display(usdt_cm_df)\n",
    "print(f\"Accuracy Score : {usdt_acc_score}\")\n",
    "print(\"Classification Report\")\n",
    "print(classification_report(usdt_y_test, usdt_predictions))"
   ]
  },
  {
   "cell_type": "code",
   "execution_count": 54,
   "metadata": {},
   "outputs": [
    {
     "name": "stdout",
     "output_type": "stream",
     "text": [
      "Confusion Matrix\n"
     ]
    },
    {
     "data": {
      "text/html": [
       "<div>\n",
       "<style scoped>\n",
       "    .dataframe tbody tr th:only-of-type {\n",
       "        vertical-align: middle;\n",
       "    }\n",
       "\n",
       "    .dataframe tbody tr th {\n",
       "        vertical-align: top;\n",
       "    }\n",
       "\n",
       "    .dataframe thead th {\n",
       "        text-align: right;\n",
       "    }\n",
       "</style>\n",
       "<table border=\"1\" class=\"dataframe\">\n",
       "  <thead>\n",
       "    <tr style=\"text-align: right;\">\n",
       "      <th></th>\n",
       "      <th>Predicted 0</th>\n",
       "      <th>Predicted 1</th>\n",
       "    </tr>\n",
       "  </thead>\n",
       "  <tbody>\n",
       "    <tr>\n",
       "      <th>Actual 0</th>\n",
       "      <td>155</td>\n",
       "      <td>211</td>\n",
       "    </tr>\n",
       "    <tr>\n",
       "      <th>Actual 1</th>\n",
       "      <td>126</td>\n",
       "      <td>239</td>\n",
       "    </tr>\n",
       "  </tbody>\n",
       "</table>\n",
       "</div>"
      ],
      "text/plain": [
       "          Predicted 0  Predicted 1\n",
       "Actual 0          155          211\n",
       "Actual 1          126          239"
      ]
     },
     "metadata": {},
     "output_type": "display_data"
    },
    {
     "name": "stdout",
     "output_type": "stream",
     "text": [
      "Accuracy Score : 0.5389876880984952\n",
      "Classification Report\n",
      "              precision    recall  f1-score   support\n",
      "\n",
      "         0.0       0.55      0.42      0.48       366\n",
      "         1.0       0.53      0.65      0.59       365\n",
      "\n",
      "    accuracy                           0.54       731\n",
      "   macro avg       0.54      0.54      0.53       731\n",
      "weighted avg       0.54      0.54      0.53       731\n",
      "\n"
     ]
    }
   ],
   "source": [
    "# Displaying results for XRP\n",
    "print(\"Confusion Matrix\")\n",
    "display(xrp_cm_df)\n",
    "print(f\"Accuracy Score : {xrp_acc_score}\")\n",
    "print(\"Classification Report\")\n",
    "print(classification_report(xrp_y_test, xrp_predictions))"
   ]
  },
  {
   "cell_type": "code",
   "execution_count": 55,
   "metadata": {},
   "outputs": [
    {
     "name": "stdout",
     "output_type": "stream",
     "text": [
      "Confusion Matrix\n"
     ]
    },
    {
     "data": {
      "text/html": [
       "<div>\n",
       "<style scoped>\n",
       "    .dataframe tbody tr th:only-of-type {\n",
       "        vertical-align: middle;\n",
       "    }\n",
       "\n",
       "    .dataframe tbody tr th {\n",
       "        vertical-align: top;\n",
       "    }\n",
       "\n",
       "    .dataframe thead th {\n",
       "        text-align: right;\n",
       "    }\n",
       "</style>\n",
       "<table border=\"1\" class=\"dataframe\">\n",
       "  <thead>\n",
       "    <tr style=\"text-align: right;\">\n",
       "      <th></th>\n",
       "      <th>Predicted 0</th>\n",
       "      <th>Predicted 1</th>\n",
       "    </tr>\n",
       "  </thead>\n",
       "  <tbody>\n",
       "    <tr>\n",
       "      <th>Actual 0</th>\n",
       "      <td>235</td>\n",
       "      <td>129</td>\n",
       "    </tr>\n",
       "    <tr>\n",
       "      <th>Actual 1</th>\n",
       "      <td>197</td>\n",
       "      <td>170</td>\n",
       "    </tr>\n",
       "  </tbody>\n",
       "</table>\n",
       "</div>"
      ],
      "text/plain": [
       "          Predicted 0  Predicted 1\n",
       "Actual 0          235          129\n",
       "Actual 1          197          170"
      ]
     },
     "metadata": {},
     "output_type": "display_data"
    },
    {
     "name": "stdout",
     "output_type": "stream",
     "text": [
      "Accuracy Score : 0.5540355677154583\n",
      "Classification Report\n",
      "              precision    recall  f1-score   support\n",
      "\n",
      "         0.0       0.54      0.65      0.59       364\n",
      "         1.0       0.57      0.46      0.51       367\n",
      "\n",
      "    accuracy                           0.55       731\n",
      "   macro avg       0.56      0.55      0.55       731\n",
      "weighted avg       0.56      0.55      0.55       731\n",
      "\n"
     ]
    }
   ],
   "source": [
    "# Displaying results for LTC\n",
    "print(\"Confusion Matrix\")\n",
    "display(ltc_cm_df)\n",
    "print(f\"Accuracy Score : {ltc_acc_score}\")\n",
    "print(\"Classification Report\")\n",
    "print(classification_report(ltc_y_test, ltc_predictions))"
   ]
  },
  {
   "cell_type": "code",
   "execution_count": 56,
   "metadata": {},
   "outputs": [
    {
     "name": "stdout",
     "output_type": "stream",
     "text": [
      "Confusion Matrix\n"
     ]
    },
    {
     "data": {
      "text/html": [
       "<div>\n",
       "<style scoped>\n",
       "    .dataframe tbody tr th:only-of-type {\n",
       "        vertical-align: middle;\n",
       "    }\n",
       "\n",
       "    .dataframe tbody tr th {\n",
       "        vertical-align: top;\n",
       "    }\n",
       "\n",
       "    .dataframe thead th {\n",
       "        text-align: right;\n",
       "    }\n",
       "</style>\n",
       "<table border=\"1\" class=\"dataframe\">\n",
       "  <thead>\n",
       "    <tr style=\"text-align: right;\">\n",
       "      <th></th>\n",
       "      <th>Predicted 0</th>\n",
       "      <th>Predicted 1</th>\n",
       "    </tr>\n",
       "  </thead>\n",
       "  <tbody>\n",
       "    <tr>\n",
       "      <th>Actual 0</th>\n",
       "      <td>60</td>\n",
       "      <td>291</td>\n",
       "    </tr>\n",
       "    <tr>\n",
       "      <th>Actual 1</th>\n",
       "      <td>49</td>\n",
       "      <td>331</td>\n",
       "    </tr>\n",
       "  </tbody>\n",
       "</table>\n",
       "</div>"
      ],
      "text/plain": [
       "          Predicted 0  Predicted 1\n",
       "Actual 0           60          291\n",
       "Actual 1           49          331"
      ]
     },
     "metadata": {},
     "output_type": "display_data"
    },
    {
     "name": "stdout",
     "output_type": "stream",
     "text": [
      "Accuracy Score : 0.5348837209302325\n",
      "Classification Report\n",
      "              precision    recall  f1-score   support\n",
      "\n",
      "         0.0       0.55      0.17      0.26       351\n",
      "         1.0       0.53      0.87      0.66       380\n",
      "\n",
      "    accuracy                           0.53       731\n",
      "   macro avg       0.54      0.52      0.46       731\n",
      "weighted avg       0.54      0.53      0.47       731\n",
      "\n"
     ]
    }
   ],
   "source": [
    "# Displaying results for TRX\n",
    "print(\"Confusion Matrix\")\n",
    "display(trx_cm_df)\n",
    "print(f\"Accuracy Score : {trx_acc_score}\")\n",
    "print(\"Classification Report\")\n",
    "print(classification_report(trx_y_test, trx_predictions))"
   ]
  },
  {
   "cell_type": "code",
   "execution_count": 57,
   "metadata": {},
   "outputs": [
    {
     "name": "stdout",
     "output_type": "stream",
     "text": [
      "Confusion Matrix\n"
     ]
    },
    {
     "data": {
      "text/html": [
       "<div>\n",
       "<style scoped>\n",
       "    .dataframe tbody tr th:only-of-type {\n",
       "        vertical-align: middle;\n",
       "    }\n",
       "\n",
       "    .dataframe tbody tr th {\n",
       "        vertical-align: top;\n",
       "    }\n",
       "\n",
       "    .dataframe thead th {\n",
       "        text-align: right;\n",
       "    }\n",
       "</style>\n",
       "<table border=\"1\" class=\"dataframe\">\n",
       "  <thead>\n",
       "    <tr style=\"text-align: right;\">\n",
       "      <th></th>\n",
       "      <th>Predicted 0</th>\n",
       "      <th>Predicted 1</th>\n",
       "    </tr>\n",
       "  </thead>\n",
       "  <tbody>\n",
       "    <tr>\n",
       "      <th>Actual 0</th>\n",
       "      <td>395</td>\n",
       "      <td>10</td>\n",
       "    </tr>\n",
       "    <tr>\n",
       "      <th>Actual 1</th>\n",
       "      <td>255</td>\n",
       "      <td>64</td>\n",
       "    </tr>\n",
       "  </tbody>\n",
       "</table>\n",
       "</div>"
      ],
      "text/plain": [
       "          Predicted 0  Predicted 1\n",
       "Actual 0          395           10\n",
       "Actual 1          255           64"
      ]
     },
     "metadata": {},
     "output_type": "display_data"
    },
    {
     "name": "stdout",
     "output_type": "stream",
     "text": [
      "Accuracy Score : 0.6339779005524862\n",
      "Classification Report\n",
      "              precision    recall  f1-score   support\n",
      "\n",
      "         0.0       0.61      0.98      0.75       405\n",
      "         1.0       0.86      0.20      0.33       319\n",
      "\n",
      "    accuracy                           0.63       724\n",
      "   macro avg       0.74      0.59      0.54       724\n",
      "weighted avg       0.72      0.63      0.56       724\n",
      "\n"
     ]
    }
   ],
   "source": [
    "# Displaying results for TUSD\n",
    "print(\"Confusion Matrix\")\n",
    "display(tusd_cm_df)\n",
    "print(f\"Accuracy Score : {tusd_acc_score}\")\n",
    "print(\"Classification Report\")\n",
    "print(classification_report(tusd_y_test, tusd_predictions))"
   ]
  },
  {
   "cell_type": "code",
   "execution_count": 58,
   "metadata": {},
   "outputs": [
    {
     "name": "stdout",
     "output_type": "stream",
     "text": [
      "Confusion Matrix\n"
     ]
    },
    {
     "data": {
      "text/html": [
       "<div>\n",
       "<style scoped>\n",
       "    .dataframe tbody tr th:only-of-type {\n",
       "        vertical-align: middle;\n",
       "    }\n",
       "\n",
       "    .dataframe tbody tr th {\n",
       "        vertical-align: top;\n",
       "    }\n",
       "\n",
       "    .dataframe thead th {\n",
       "        text-align: right;\n",
       "    }\n",
       "</style>\n",
       "<table border=\"1\" class=\"dataframe\">\n",
       "  <thead>\n",
       "    <tr style=\"text-align: right;\">\n",
       "      <th></th>\n",
       "      <th>Predicted 0</th>\n",
       "      <th>Predicted 1</th>\n",
       "    </tr>\n",
       "  </thead>\n",
       "  <tbody>\n",
       "    <tr>\n",
       "      <th>Actual 0</th>\n",
       "      <td>294</td>\n",
       "      <td>107</td>\n",
       "    </tr>\n",
       "    <tr>\n",
       "      <th>Actual 1</th>\n",
       "      <td>195</td>\n",
       "      <td>135</td>\n",
       "    </tr>\n",
       "  </tbody>\n",
       "</table>\n",
       "</div>"
      ],
      "text/plain": [
       "          Predicted 0  Predicted 1\n",
       "Actual 0          294          107\n",
       "Actual 1          195          135"
      ]
     },
     "metadata": {},
     "output_type": "display_data"
    },
    {
     "name": "stdout",
     "output_type": "stream",
     "text": [
      "Accuracy Score : 0.5868673050615595\n",
      "Classification Report\n",
      "              precision    recall  f1-score   support\n",
      "\n",
      "         0.0       0.60      0.73      0.66       401\n",
      "         1.0       0.56      0.41      0.47       330\n",
      "\n",
      "    accuracy                           0.59       731\n",
      "   macro avg       0.58      0.57      0.57       731\n",
      "weighted avg       0.58      0.59      0.58       731\n",
      "\n"
     ]
    }
   ],
   "source": [
    "# Displaying results for DGB\n",
    "print(\"Confusion Matrix\")\n",
    "display(dgb_cm_df)\n",
    "print(f\"Accuracy Score : {dgb_acc_score}\")\n",
    "print(\"Classification Report\")\n",
    "print(classification_report(dgb_y_test, dgb_predictions))"
   ]
  },
  {
   "cell_type": "code",
   "execution_count": 59,
   "metadata": {},
   "outputs": [
    {
     "name": "stdout",
     "output_type": "stream",
     "text": [
      "Confusion Matrix\n"
     ]
    },
    {
     "data": {
      "text/html": [
       "<div>\n",
       "<style scoped>\n",
       "    .dataframe tbody tr th:only-of-type {\n",
       "        vertical-align: middle;\n",
       "    }\n",
       "\n",
       "    .dataframe tbody tr th {\n",
       "        vertical-align: top;\n",
       "    }\n",
       "\n",
       "    .dataframe thead th {\n",
       "        text-align: right;\n",
       "    }\n",
       "</style>\n",
       "<table border=\"1\" class=\"dataframe\">\n",
       "  <thead>\n",
       "    <tr style=\"text-align: right;\">\n",
       "      <th></th>\n",
       "      <th>Predicted 0</th>\n",
       "      <th>Predicted 1</th>\n",
       "    </tr>\n",
       "  </thead>\n",
       "  <tbody>\n",
       "    <tr>\n",
       "      <th>Actual 0</th>\n",
       "      <td>320</td>\n",
       "      <td>60</td>\n",
       "    </tr>\n",
       "    <tr>\n",
       "      <th>Actual 1</th>\n",
       "      <td>286</td>\n",
       "      <td>65</td>\n",
       "    </tr>\n",
       "  </tbody>\n",
       "</table>\n",
       "</div>"
      ],
      "text/plain": [
       "          Predicted 0  Predicted 1\n",
       "Actual 0          320           60\n",
       "Actual 1          286           65"
      ]
     },
     "metadata": {},
     "output_type": "display_data"
    },
    {
     "name": "stdout",
     "output_type": "stream",
     "text": [
      "Accuracy Score : 0.5266757865937073\n",
      "Classification Report\n",
      "              precision    recall  f1-score   support\n",
      "\n",
      "         0.0       0.53      0.84      0.65       380\n",
      "         1.0       0.52      0.19      0.27       351\n",
      "\n",
      "    accuracy                           0.53       731\n",
      "   macro avg       0.52      0.51      0.46       731\n",
      "weighted avg       0.52      0.53      0.47       731\n",
      "\n"
     ]
    }
   ],
   "source": [
    "# Displaying results for BSV\n",
    "print(\"Confusion Matrix\")\n",
    "display(bsv_cm_df)\n",
    "print(f\"Accuracy Score : {bsv_acc_score}\")\n",
    "print(\"Classification Report\")\n",
    "print(classification_report(bsv_y_test, bsv_predictions))"
   ]
  },
  {
   "cell_type": "code",
   "execution_count": null,
   "metadata": {},
   "outputs": [],
   "source": []
  },
  {
   "cell_type": "code",
   "execution_count": null,
   "metadata": {},
   "outputs": [],
   "source": []
  },
  {
   "cell_type": "code",
   "execution_count": 11,
   "metadata": {},
   "outputs": [
    {
     "data": {
      "text/plain": [
       "['bsv_random_forest_model.joblib']"
      ]
     },
     "execution_count": 11,
     "metadata": {},
     "output_type": "execute_result"
    }
   ],
   "source": [
    "# Save the pre-trained model\n",
    "#from joblib import dump, load\n",
    "#dump(btc_model, 'btc_random_forest_model.joblib')\n",
    "#dump(eth_model, 'eth_random_forest_model.joblib')\n",
    "#dump(ada_model, 'ada_random_forest_model.joblib')\n",
    "#dump(usdt_model, 'usdt_random_forest_model.joblib')\n",
    "#dump(xrp_model, 'xrp_random_forest_model.joblib')\n",
    "#dump(ltc_model, 'ltc_random_forest_model.joblib')\n",
    "#dump(trx_model, 'trx_random_forest_model.joblib')\n",
    "#dump(tusd_model, 'tusd_random_forest_model.joblib')\n",
    "#dump(dgb_model, 'dgb_random_forest_model.joblib')\n",
    "#dump(bsv_model, 'bsv_random_forest_model.joblib')"
   ]
  },
  {
   "cell_type": "code",
   "execution_count": 33,
   "metadata": {},
   "outputs": [
    {
     "data": {
      "text/html": [
       "<div>\n",
       "<style scoped>\n",
       "    .dataframe tbody tr th:only-of-type {\n",
       "        vertical-align: middle;\n",
       "    }\n",
       "\n",
       "    .dataframe tbody tr th {\n",
       "        vertical-align: top;\n",
       "    }\n",
       "\n",
       "    .dataframe thead th {\n",
       "        text-align: right;\n",
       "    }\n",
       "</style>\n",
       "<table border=\"1\" class=\"dataframe\">\n",
       "  <thead>\n",
       "    <tr style=\"text-align: right;\">\n",
       "      <th></th>\n",
       "      <th>crossover_signal</th>\n",
       "      <th>vol_trend_signal</th>\n",
       "      <th>bollinger_signal</th>\n",
       "    </tr>\n",
       "    <tr>\n",
       "      <th>time</th>\n",
       "      <th></th>\n",
       "      <th></th>\n",
       "      <th></th>\n",
       "    </tr>\n",
       "  </thead>\n",
       "  <tbody>\n",
       "    <tr>\n",
       "      <th>2019-03-21 00:00:00+00:00</th>\n",
       "      <td>0.0</td>\n",
       "      <td>0.0</td>\n",
       "      <td>0.0</td>\n",
       "    </tr>\n",
       "    <tr>\n",
       "      <th>2019-03-22 00:00:00+00:00</th>\n",
       "      <td>-1.0</td>\n",
       "      <td>0.0</td>\n",
       "      <td>0.0</td>\n",
       "    </tr>\n",
       "    <tr>\n",
       "      <th>2019-03-23 00:00:00+00:00</th>\n",
       "      <td>-1.0</td>\n",
       "      <td>-1.0</td>\n",
       "      <td>0.0</td>\n",
       "    </tr>\n",
       "    <tr>\n",
       "      <th>2019-03-24 00:00:00+00:00</th>\n",
       "      <td>-1.0</td>\n",
       "      <td>1.0</td>\n",
       "      <td>0.0</td>\n",
       "    </tr>\n",
       "    <tr>\n",
       "      <th>2019-03-25 00:00:00+00:00</th>\n",
       "      <td>-1.0</td>\n",
       "      <td>1.0</td>\n",
       "      <td>0.0</td>\n",
       "    </tr>\n",
       "  </tbody>\n",
       "</table>\n",
       "</div>"
      ],
      "text/plain": [
       "                           crossover_signal  vol_trend_signal  \\\n",
       "time                                                            \n",
       "2019-03-21 00:00:00+00:00               0.0               0.0   \n",
       "2019-03-22 00:00:00+00:00              -1.0               0.0   \n",
       "2019-03-23 00:00:00+00:00              -1.0              -1.0   \n",
       "2019-03-24 00:00:00+00:00              -1.0               1.0   \n",
       "2019-03-25 00:00:00+00:00              -1.0               1.0   \n",
       "\n",
       "                           bollinger_signal  \n",
       "time                                         \n",
       "2019-03-21 00:00:00+00:00               0.0  \n",
       "2019-03-22 00:00:00+00:00               0.0  \n",
       "2019-03-23 00:00:00+00:00               0.0  \n",
       "2019-03-24 00:00:00+00:00               0.0  \n",
       "2019-03-25 00:00:00+00:00               0.0  "
      ]
     },
     "execution_count": 33,
     "metadata": {},
     "output_type": "execute_result"
    }
   ],
   "source": [
    "btc_trading_signals_df[x_var_list]"
   ]
  },
  {
   "cell_type": "code",
   "execution_count": 61,
   "metadata": {},
   "outputs": [],
   "source": [
    "btc_actual_results = pd.DataFrame()\n",
    "btc_actual_results[\"Return\"] = btc_trading_signals_df[\"BTC daily_return\"]\n",
    "btc_actual_results[\"Actual Value\"] = btc_y_test\n",
    "\n",
    "eth_actual_results = pd.DataFrame()\n",
    "eth_actual_results[\"Return\"] = eth_trading_signals_df[\"ETH daily_return\"]\n",
    "eth_actual_results[\"Actual Value\"] = eth_y_test\n",
    "\n",
    "ada_actual_results = pd.DataFrame()\n",
    "ada_actual_results[\"Return\"] = ada_trading_signals_df[\"ADA daily_return\"]\n",
    "ada_actual_results[\"Actual Value\"] = ada_y_test\n",
    "\n",
    "usdt_actual_results = pd.DataFrame()\n",
    "usdt_actual_results[\"Return\"] = usdt_trading_signals_df[\"USDT daily_return\"]\n",
    "usdt_actual_results[\"Actual Value\"] = usdt_y_test\n",
    "\n",
    "xrp_actual_results = pd.DataFrame()\n",
    "xrp_actual_results[\"Return\"] = xrp_trading_signals_df[\"XRP daily_return\"]\n",
    "xrp_actual_results[\"Actual Value\"] = xrp_y_test\n",
    "\n",
    "ltc_actual_results = pd.DataFrame()\n",
    "ltc_actual_results[\"Return\"] = ltc_trading_signals_df[\"LTC daily_return\"]\n",
    "ltc_actual_results[\"Actual Value\"] = ltc_y_test\n",
    "\n",
    "trx_actual_results = pd.DataFrame()\n",
    "trx_actual_results[\"Return\"] = trx_trading_signals_df[\"TRX daily_return\"]\n",
    "trx_actual_results[\"Actual Value\"] = trx_y_test\n",
    "\n",
    "tusd_actual_results = pd.DataFrame()\n",
    "tusd_actual_results[\"Return\"] = tusd_trading_signals_df[\"TUSD daily_return\"]\n",
    "tusd_actual_results[\"Actual Value\"] = tusd_y_test\n",
    "\n",
    "dgb_actual_results = pd.DataFrame()\n",
    "dgb_actual_results[\"Return\"] = dgb_trading_signals_df[\"DGB daily_return\"]\n",
    "dgb_actual_results[\"Actual Value\"] = dgb_y_test\n",
    "\n",
    "bsv_actual_results = pd.DataFrame()\n",
    "bsv_actual_results[\"Return\"] = bsv_trading_signals_df[\"BSV daily_return\"]\n",
    "bsv_actual_results[\"Actual Value\"] = bsv_y_test\n"
   ]
  },
  {
   "cell_type": "code",
   "execution_count": 62,
   "metadata": {},
   "outputs": [],
   "source": [
    "# Load the model and make the predictions from the X_test dataset\n",
    "btc_model2 = load('Resources/btc_random_forest_model.joblib')\n",
    "btc_predictions2 = btc_model2.predict(btc_X_test)\n",
    "\n",
    "eth_model2 = load('Resources/eth_random_forest_model.joblib')\n",
    "eth_predictions2 = eth_model2.predict(eth_X_test)\n",
    "\n",
    "ada_model2 = load('Resources/ada_random_forest_model.joblib')\n",
    "ada_predictions2 = btc_model2.predict(ada_X_test)\n",
    "\n",
    "usdt_model2 = load('Resources/usdt_random_forest_model.joblib')\n",
    "usdt_predictions2 = btc_model2.predict(usdt_X_test)\n",
    "\n",
    "xrp_model2 = load('Resources/xrp_random_forest_model.joblib')\n",
    "xrp_predictions2 = xrp_model2.predict(xrp_X_test)\n",
    "\n",
    "ltc_model2 = load('Resources/ltc_random_forest_model.joblib')\n",
    "ltc_predictions2 = ltc_model2.predict(ltc_X_test)\n",
    "\n",
    "trx_model2 = load('Resources/trx_random_forest_model.joblib')\n",
    "trx_predictions2 = trx_model2.predict(trx_X_test)\n",
    "\n",
    "tusd_model2 = load('Resources/tusd_random_forest_model.joblib')\n",
    "tusd_predictions2 = tusd_model2.predict(tusd_X_test)\n",
    "\n",
    "dgb_model2 = load('Resources/dgb_random_forest_model.joblib')\n",
    "dgb_predictions2 = dgb_model2.predict(btc_X_test)\n",
    "\n",
    "bsv_model2 = load('Resources/bsv_random_forest_model.joblib')\n",
    "bsv_predictions2 = bsv_model2.predict(bsv_X_test)"
   ]
  },
  {
   "cell_type": "code",
   "execution_count": 63,
   "metadata": {},
   "outputs": [],
   "source": [
    "# Add predicted results to DataFrame\n",
    "btc_actual_results[\"Predicted Value\"] = btc_predictions2\n",
    "\n",
    "eth_actual_results[\"Predicted Value\"] = eth_predictions2\n",
    "\n",
    "ada_actual_results[\"Predicted Value\"] = ada_predictions2\n",
    "\n",
    "usdt_actual_results[\"Predicted Value\"] = usdt_predictions2\n",
    "\n",
    "xrp_actual_results[\"Predicted Value\"] = xrp_predictions2\n",
    "\n",
    "ltc_actual_results[\"Predicted Value\"] = ltc_predictions2\n",
    "\n",
    "trx_actual_results[\"Predicted Value\"] = trx_predictions2\n",
    "\n",
    "tusd_actual_results[\"Predicted Value\"] = tusd_predictions2\n",
    "\n",
    "dgb_actual_results[\"Predicted Value\"] = dgb_predictions2\n",
    "\n",
    "bsv_actual_results[\"Predicted Value\"] = bsv_predictions2"
   ]
  },
  {
   "cell_type": "code",
   "execution_count": null,
   "metadata": {},
   "outputs": [],
   "source": []
  },
  {
   "cell_type": "code",
   "execution_count": 64,
   "metadata": {},
   "outputs": [
    {
     "name": "stderr",
     "output_type": "stream",
     "text": [
      "C:\\Users\\ryanc\\anaconda3\\envs\\pyvizenv2\\lib\\site-packages\\pandas\\core\\arrays\\datetimes.py:1172: UserWarning: Converting to PeriodArray/Index representation will drop timezone information.\n",
      "  \"will drop timezone information.\", UserWarning)\n"
     ]
    },
    {
     "data": {
      "text/plain": [
       "<matplotlib.axes._subplots.AxesSubplot at 0x1f793efe048>"
      ]
     },
     "execution_count": 64,
     "metadata": {},
     "output_type": "execute_result"
    },
    {
     "data": {
      "image/png": "[encoded data removed]",
      "text/plain": [
       "<Figure size 432x288 with 1 Axes>"
      ]
     },
     "metadata": {
      "needs_background": "light"
     },
     "output_type": "display_data"
    },
    {
     "data": {
      "image/png": "[encoded data removed]",
      "text/plain": [
       "<Figure size 432x288 with 1 Axes>"
      ]
     },
     "metadata": {
      "needs_background": "light"
     },
     "output_type": "display_data"
    },
    {
     "data": {
      "image/png": "[encoded data removed]",
      "text/plain": [
       "<Figure size 432x288 with 1 Axes>"
      ]
     },
     "metadata": {
      "needs_background": "light"
     },
     "output_type": "display_data"
    },
    {
     "data": {
      "image/png": "[encoded data removed]",
      "text/plain": [
       "<Figure size 432x288 with 1 Axes>"
      ]
     },
     "metadata": {
      "needs_background": "light"
     },
     "output_type": "display_data"
    },
    {
     "data": {
      "image/png": "[encoded data removed]",
      "text/plain": [
       "<Figure size 432x288 with 1 Axes>"
      ]
     },
     "metadata": {
      "needs_background": "light"
     },
     "output_type": "display_data"
    },
    {
     "data": {
      "image/png": "[encoded data removed]",
      "text/plain": [
       "<Figure size 432x288 with 1 Axes>"
      ]
     },
     "metadata": {
      "needs_background": "light"
     },
     "output_type": "display_data"
    },
    {
     "data": {
      "image/png": "[encoded data removed]",
      "text/plain": [
       "<Figure size 432x288 with 1 Axes>"
      ]
     },
     "metadata": {
      "needs_background": "light"
     },
     "output_type": "display_data"
    },
    {
     "data": {
      "image/png": "[encoded data removed]",
      "text/plain": [
       "<Figure size 432x288 with 1 Axes>"
      ]
     },
     "metadata": {
      "needs_background": "light"
     },
     "output_type": "display_data"
    },
    {
     "data": {
      "image/png": "[encoded data removed]",
      "text/plain": [
       "<Figure size 432x288 with 1 Axes>"
      ]
     },
     "metadata": {
      "needs_background": "light"
     },
     "output_type": "display_data"
    },
    {
     "data": {
      "image/png": "[encoded data removed]",
      "text/plain": [
       "<Figure size 432x288 with 1 Axes>"
      ]
     },
     "metadata": {
      "needs_background": "light"
     },
     "output_type": "display_data"
    }
   ],
   "source": [
    "# Plot last 10 records of predicted vs. actual results\n",
    "btc_actual_results[['Actual Value', 'Predicted Value']].tail(10).plot()\n",
    "\n",
    "eth_actual_results[['Actual Value', 'Predicted Value']].tail(10).plot()\n",
    "\n",
    "ada_actual_results[['Actual Value', 'Predicted Value']].tail(10).plot()\n",
    "\n",
    "usdt_actual_results[['Actual Value', 'Predicted Value']].tail(10).plot()\n",
    "\n",
    "xrp_actual_results[['Actual Value', 'Predicted Value']].tail(10).plot()\n",
    "\n",
    "ltc_actual_results[['Actual Value', 'Predicted Value']].tail(10).plot()\n",
    "\n",
    "xrp_actual_results[['Actual Value', 'Predicted Value']].tail(10).plot()\n",
    "\n",
    "tusd_actual_results[['Actual Value', 'Predicted Value']].tail(10).plot()\n",
    "\n",
    "dgb_actual_results[['Actual Value', 'Predicted Value']].tail(10).plot()\n",
    "\n",
    "bsv_actual_results[['Actual Value', 'Predicted Value']].tail(10).plot()"
   ]
  },
  {
   "cell_type": "code",
   "execution_count": 65,
   "metadata": {},
   "outputs": [],
   "source": [
    "# Replace predicted values 0 to -1 to account for shorting\n",
    "btc_actual_results['Predicted Value'].replace(0, -1, inplace=True)\n",
    "\n",
    "eth_actual_results['Predicted Value'].replace(0, -1, inplace=True)\n",
    "\n",
    "ada_actual_results['Predicted Value'].replace(0, -1, inplace=True)\n",
    "\n",
    "usdt_actual_results['Predicted Value'].replace(0, -1, inplace=True)\n",
    "\n",
    "xrp_actual_results['Predicted Value'].replace(0, -1, inplace=True)\n",
    "\n",
    "ltc_actual_results['Predicted Value'].replace(0, -1, inplace=True)\n",
    "\n",
    "trx_actual_results['Predicted Value'].replace(0, -1, inplace=True)\n",
    "\n",
    "tusd_actual_results['Predicted Value'].replace(0, -1, inplace=True)\n",
    "\n",
    "dgb_actual_results['Predicted Value'].replace(0, -1, inplace=True)\n",
    "\n",
    "bsv_actual_results['Predicted Value'].replace(0, -1, inplace=True)"
   ]
  },
  {
   "cell_type": "code",
   "execution_count": 67,
   "metadata": {},
   "outputs": [
    {
     "data": {
      "text/plain": [
       "<matplotlib.axes._subplots.AxesSubplot at 0x1f79517b388>"
      ]
     },
     "execution_count": 67,
     "metadata": {},
     "output_type": "execute_result"
    },
    {
     "data": {
      "image/png": "[encoded data removed]",
      "text/plain": [
       "<Figure size 432x288 with 1 Axes>"
      ]
     },
     "metadata": {
      "needs_background": "light"
     },
     "output_type": "display_data"
    }
   ],
   "source": [
    "# Calculate cumulative return of BTC model and plot the result\n",
    "(1 + (btc_actual_results['Return'] * btc_actual_results['Predicted Value'])).cumprod().plot()"
   ]
  },
  {
   "cell_type": "code",
   "execution_count": 73,
   "metadata": {},
   "outputs": [
    {
     "data": {
      "text/plain": [
       "<matplotlib.axes._subplots.AxesSubplot at 0x1f793e3c488>"
      ]
     },
     "execution_count": 73,
     "metadata": {},
     "output_type": "execute_result"
    },
    {
     "data": {
      "image/png": "[encoded data removed]",
      "text/plain": [
       "<Figure size 432x288 with 1 Axes>"
      ]
     },
     "metadata": {
      "needs_background": "light"
     },
     "output_type": "display_data"
    }
   ],
   "source": [
    "# Calculate cumulative return of ETH model and plot the result\n",
    "(1 + (eth_actual_results['Return'] * eth_actual_results['Predicted Value'])).cumprod().plot()"
   ]
  },
  {
   "cell_type": "code",
   "execution_count": 74,
   "metadata": {},
   "outputs": [
    {
     "data": {
      "text/plain": [
       "<matplotlib.axes._subplots.AxesSubplot at 0x1f7937c90c8>"
      ]
     },
     "execution_count": 74,
     "metadata": {},
     "output_type": "execute_result"
    },
    {
     "data": {
      "image/png": "[encoded data removed]",
      "text/plain": [
       "<Figure size 432x288 with 1 Axes>"
      ]
     },
     "metadata": {
      "needs_background": "light"
     },
     "output_type": "display_data"
    }
   ],
   "source": [
    "# Calculate cumulative return of ADA model and plot the result\n",
    "(1 + (ada_actual_results['Return'] * ada_actual_results['Predicted Value'])).cumprod().plot()"
   ]
  },
  {
   "cell_type": "code",
   "execution_count": 75,
   "metadata": {},
   "outputs": [
    {
     "data": {
      "text/plain": [
       "<matplotlib.axes._subplots.AxesSubplot at 0x1f7952396c8>"
      ]
     },
     "execution_count": 75,
     "metadata": {},
     "output_type": "execute_result"
    },
    {
     "data": {
      "image/png": "[encoded data removed]",
      "text/plain": [
       "<Figure size 432x288 with 1 Axes>"
      ]
     },
     "metadata": {
      "needs_background": "light"
     },
     "output_type": "display_data"
    }
   ],
   "source": [
    "# Calculate cumulative return of USDT model and plot the result\n",
    "(1 + (usdt_actual_results['Return'] * usdt_actual_results['Predicted Value'])).cumprod().plot()"
   ]
  },
  {
   "cell_type": "code",
   "execution_count": 76,
   "metadata": {},
   "outputs": [
    {
     "data": {
      "text/plain": [
       "<matplotlib.axes._subplots.AxesSubplot at 0x1f7938363c8>"
      ]
     },
     "execution_count": 76,
     "metadata": {},
     "output_type": "execute_result"
    },
    {
     "data": {
      "image/png": "[encoded data removed]",
      "text/plain": [
       "<Figure size 432x288 with 1 Axes>"
      ]
     },
     "metadata": {
      "needs_background": "light"
     },
     "output_type": "display_data"
    }
   ],
   "source": [
    "# Calculate cumulative return of XRP model and plot the result\n",
    "(1 + (xrp_actual_results['Return'] * xrp_actual_results['Predicted Value'])).cumprod().plot()"
   ]
  },
  {
   "cell_type": "code",
   "execution_count": 77,
   "metadata": {},
   "outputs": [
    {
     "data": {
      "text/plain": [
       "<matplotlib.axes._subplots.AxesSubplot at 0x1f7937d7548>"
      ]
     },
     "execution_count": 77,
     "metadata": {},
     "output_type": "execute_result"
    },
    {
     "data": {
      "image/png": "[encoded data removed]",
      "text/plain": [
       "<Figure size 432x288 with 1 Axes>"
      ]
     },
     "metadata": {
      "needs_background": "light"
     },
     "output_type": "display_data"
    }
   ],
   "source": [
    "# Calculate cumulative return of LTC model and plot the result\n",
    "(1 + (ltc_actual_results['Return'] * ltc_actual_results['Predicted Value'])).cumprod().plot()"
   ]
  },
  {
   "cell_type": "code",
   "execution_count": 78,
   "metadata": {},
   "outputs": [
    {
     "data": {
      "text/plain": [
       "<matplotlib.axes._subplots.AxesSubplot at 0x1f7937abe08>"
      ]
     },
     "execution_count": 78,
     "metadata": {},
     "output_type": "execute_result"
    },
    {
     "data": {
      "image/png": "[encoded data removed]",
      "text/plain": [
       "<Figure size 432x288 with 1 Axes>"
      ]
     },
     "metadata": {
      "needs_background": "light"
     },
     "output_type": "display_data"
    }
   ],
   "source": [
    "# Calculate cumulative return of TRX model and plot the result\n",
    "(1 + (trx_actual_results['Return'] * trx_actual_results['Predicted Value'])).cumprod().plot()"
   ]
  },
  {
   "cell_type": "code",
   "execution_count": 79,
   "metadata": {},
   "outputs": [
    {
     "data": {
      "text/plain": [
       "<matplotlib.axes._subplots.AxesSubplot at 0x1f7955958c8>"
      ]
     },
     "execution_count": 79,
     "metadata": {},
     "output_type": "execute_result"
    },
    {
     "data": {
      "image/png": "[encoded data removed]",
      "text/plain": [
       "<Figure size 432x288 with 1 Axes>"
      ]
     },
     "metadata": {
      "needs_background": "light"
     },
     "output_type": "display_data"
    }
   ],
   "source": [
    "# Calculate cumulative return of TUSD model and plot the result\n",
    "(1 + (tusd_actual_results['Return'] * tusd_actual_results['Predicted Value'])).cumprod().plot()"
   ]
  },
  {
   "cell_type": "code",
   "execution_count": 80,
   "metadata": {},
   "outputs": [
    {
     "data": {
      "text/plain": [
       "<matplotlib.axes._subplots.AxesSubplot at 0x1f7955fa688>"
      ]
     },
     "execution_count": 80,
     "metadata": {},
     "output_type": "execute_result"
    },
    {
     "data": {
      "image/png": "[encoded data removed]",
      "text/plain": [
       "<Figure size 432x288 with 1 Axes>"
      ]
     },
     "metadata": {
      "needs_background": "light"
     },
     "output_type": "display_data"
    }
   ],
   "source": [
    "# Calculate cumulative return of DGB model and plot the result\n",
    "(1 + (dgb_actual_results['Return'] * dgb_actual_results['Predicted Value'])).cumprod().plot()"
   ]
  },
  {
   "cell_type": "code",
   "execution_count": 81,
   "metadata": {},
   "outputs": [
    {
     "data": {
      "text/plain": [
       "<matplotlib.axes._subplots.AxesSubplot at 0x1f7956afa48>"
      ]
     },
     "execution_count": 81,
     "metadata": {},
     "output_type": "execute_result"
    },
    {
     "data": {
      "image/png": "[encoded data removed]",
      "text/plain": [
       "<Figure size 432x288 with 1 Axes>"
      ]
     },
     "metadata": {
      "needs_background": "light"
     },
     "output_type": "display_data"
    }
   ],
   "source": [
    "# Calculate cumulative return of BSV model and plot the result\n",
    "(1 + (bsv_actual_results['Return'] * bsv_actual_results['Predicted Value'])).cumprod().plot()"
   ]
  },
  {
   "cell_type": "code",
   "execution_count": null,
   "metadata": {},
   "outputs": [],
   "source": []
  },
  {
   "cell_type": "code",
   "execution_count": null,
   "metadata": {},
   "outputs": [],
   "source": []
  }
 ],
 "metadata": {
  "kernelspec": {
   "display_name": "Python [conda env:pyvizenv2] *",
   "language": "python",
   "name": "conda-env-pyvizenv2-py"
  },
  "language_info": {
   "codemirror_mode": {
    "name": "ipython",
    "version": 3
   },
   "file_extension": ".py",
   "mimetype": "text/x-python",
   "name": "python",
   "nbconvert_exporter": "python",
   "pygments_lexer": "ipython3",
   "version": "3.7.9"
  }
 },
 "nbformat": 4,
 "nbformat_minor": 4
}

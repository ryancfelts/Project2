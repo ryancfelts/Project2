{
 "cells": [
  {
   "cell_type": "code",
   "execution_count": 17,
   "metadata": {},
   "outputs": [],
   "source": [
    "from pathlib import Path\n",
    "import pandas as pd\n",
    "import numpy as np"
   ]
  },
  {
   "cell_type": "code",
   "execution_count": 14,
   "metadata": {},
   "outputs": [],
   "source": [
    "btc_df = pd.read_csv(Path(\"Resources/BitcoinData.csv\"), parse_dates=True, index_col='time')\n",
    "eth_df = pd.read_csv(Path(\"Resources/EthereumData.csv\"), parse_dates=True, index_col='time')\n",
    "ada_df = pd.read_csv(Path(\"Resources/CardanoData.csv\"), parse_dates=True, index_col='time')\n",
    "usdt_df = pd.read_csv(Path(\"Resources/TetherData.csv\"), parse_dates=True, index_col='time')\n",
    "ltc_df = pd.read_csv(Path(\"Resources/LitecoinData.csv\"), parse_dates=True, index_col='time')\n",
    "dgb_df = pd.read_csv(Path(\"Resources/DigiByteData.csv\"), parse_dates=True, index_col='time')\n",
    "xrp_df = pd.read_csv(Path(\"Resources/RippleData.csv\"), parse_dates=True, index_col='time')\n",
    "trx_df = pd.read_csv(Path(\"Resources/TronData.csv\"), parse_dates=True, index_col='time')\n",
    "tusd_df = pd.read_csv(Path(\"Resources/TrueUSDData.csv\"), parse_dates=True, index_col='time')\n",
    "bsv_df = pd.read_csv(Path(\"Resources/BitcoinSVData.csv\"), parse_dates=True, index_col='time')\n",
    "crypto_df = pd.read_csv(Path(\"Resources/CryptoData.csv\"), parse_dates=True, index_col='time')\n",
    "df_closing_prices = pd.read_csv(Path(\"Resources/CryptoClosingPrices.csv\"), parse_dates=True, index_col='time')\n"
   ]
  },
  {
   "cell_type": "code",
   "execution_count": 15,
   "metadata": {},
   "outputs": [
    {
     "data": {
      "text/html": [
       "<div>\n",
       "<style scoped>\n",
       "    .dataframe tbody tr th:only-of-type {\n",
       "        vertical-align: middle;\n",
       "    }\n",
       "\n",
       "    .dataframe tbody tr th {\n",
       "        vertical-align: top;\n",
       "    }\n",
       "\n",
       "    .dataframe thead th {\n",
       "        text-align: right;\n",
       "    }\n",
       "</style>\n",
       "<table border=\"1\" class=\"dataframe\">\n",
       "  <thead>\n",
       "    <tr style=\"text-align: right;\">\n",
       "      <th></th>\n",
       "      <th>BTC Close</th>\n",
       "      <th>ETH Close</th>\n",
       "      <th>ADA Close</th>\n",
       "      <th>USDT Close</th>\n",
       "      <th>XRP Close</th>\n",
       "      <th>LTC Close</th>\n",
       "      <th>TRX Close</th>\n",
       "      <th>TUSD Close</th>\n",
       "      <th>DGB Close</th>\n",
       "      <th>BSV Close</th>\n",
       "    </tr>\n",
       "    <tr>\n",
       "      <th>time</th>\n",
       "      <th></th>\n",
       "      <th></th>\n",
       "      <th></th>\n",
       "      <th></th>\n",
       "      <th></th>\n",
       "      <th></th>\n",
       "      <th></th>\n",
       "      <th></th>\n",
       "      <th></th>\n",
       "      <th></th>\n",
       "    </tr>\n",
       "  </thead>\n",
       "  <tbody>\n",
       "    <tr>\n",
       "      <th>2019-03-21 00:00:00+00:00</th>\n",
       "      <td>-0.014944</td>\n",
       "      <td>-0.030154</td>\n",
       "      <td>0.000000</td>\n",
       "      <td>0.001004</td>\n",
       "      <td>-0.025237</td>\n",
       "      <td>-0.026839</td>\n",
       "      <td>-0.043478</td>\n",
       "      <td>0.000000</td>\n",
       "      <td>-0.071429</td>\n",
       "      <td>-0.019694</td>\n",
       "    </tr>\n",
       "    <tr>\n",
       "      <th>2019-03-22 00:00:00+00:00</th>\n",
       "      <td>0.001543</td>\n",
       "      <td>0.009445</td>\n",
       "      <td>0.055556</td>\n",
       "      <td>-0.001003</td>\n",
       "      <td>0.003236</td>\n",
       "      <td>0.012286</td>\n",
       "      <td>0.045455</td>\n",
       "      <td>0.003003</td>\n",
       "      <td>0.000000</td>\n",
       "      <td>0.027896</td>\n",
       "    </tr>\n",
       "    <tr>\n",
       "      <th>2019-03-23 00:00:00+00:00</th>\n",
       "      <td>0.000776</td>\n",
       "      <td>0.002347</td>\n",
       "      <td>0.122807</td>\n",
       "      <td>-0.001004</td>\n",
       "      <td>0.000000</td>\n",
       "      <td>0.024291</td>\n",
       "      <td>0.043478</td>\n",
       "      <td>-0.000998</td>\n",
       "      <td>0.000000</td>\n",
       "      <td>-0.000856</td>\n",
       "    </tr>\n",
       "    <tr>\n",
       "      <th>2019-03-24 00:00:00+00:00</th>\n",
       "      <td>-0.004191</td>\n",
       "      <td>-0.005299</td>\n",
       "      <td>-0.031250</td>\n",
       "      <td>0.003015</td>\n",
       "      <td>-0.012903</td>\n",
       "      <td>-0.019001</td>\n",
       "      <td>-0.041667</td>\n",
       "      <td>0.000000</td>\n",
       "      <td>0.000000</td>\n",
       "      <td>-0.013521</td>\n",
       "    </tr>\n",
       "    <tr>\n",
       "      <th>2019-03-25 00:00:00+00:00</th>\n",
       "      <td>-0.014714</td>\n",
       "      <td>-0.017722</td>\n",
       "      <td>-0.048387</td>\n",
       "      <td>-0.004008</td>\n",
       "      <td>-0.019608</td>\n",
       "      <td>-0.013053</td>\n",
       "      <td>0.000000</td>\n",
       "      <td>-0.001998</td>\n",
       "      <td>-0.076923</td>\n",
       "      <td>-0.031586</td>\n",
       "    </tr>\n",
       "  </tbody>\n",
       "</table>\n",
       "</div>"
      ],
      "text/plain": [
       "                           BTC Close  ETH Close  ADA Close  USDT Close  \\\n",
       "time                                                                     \n",
       "2019-03-21 00:00:00+00:00  -0.014944  -0.030154   0.000000    0.001004   \n",
       "2019-03-22 00:00:00+00:00   0.001543   0.009445   0.055556   -0.001003   \n",
       "2019-03-23 00:00:00+00:00   0.000776   0.002347   0.122807   -0.001004   \n",
       "2019-03-24 00:00:00+00:00  -0.004191  -0.005299  -0.031250    0.003015   \n",
       "2019-03-25 00:00:00+00:00  -0.014714  -0.017722  -0.048387   -0.004008   \n",
       "\n",
       "                           XRP Close  LTC Close  TRX Close  TUSD Close  \\\n",
       "time                                                                     \n",
       "2019-03-21 00:00:00+00:00  -0.025237  -0.026839  -0.043478    0.000000   \n",
       "2019-03-22 00:00:00+00:00   0.003236   0.012286   0.045455    0.003003   \n",
       "2019-03-23 00:00:00+00:00   0.000000   0.024291   0.043478   -0.000998   \n",
       "2019-03-24 00:00:00+00:00  -0.012903  -0.019001  -0.041667    0.000000   \n",
       "2019-03-25 00:00:00+00:00  -0.019608  -0.013053   0.000000   -0.001998   \n",
       "\n",
       "                           DGB Close  BSV Close  \n",
       "time                                             \n",
       "2019-03-21 00:00:00+00:00  -0.071429  -0.019694  \n",
       "2019-03-22 00:00:00+00:00   0.000000   0.027896  \n",
       "2019-03-23 00:00:00+00:00   0.000000  -0.000856  \n",
       "2019-03-24 00:00:00+00:00   0.000000  -0.013521  \n",
       "2019-03-25 00:00:00+00:00  -0.076923  -0.031586  "
      ]
     },
     "execution_count": 15,
     "metadata": {},
     "output_type": "execute_result"
    }
   ],
   "source": [
    "df_daily_returns = df_closing_prices.pct_change().dropna()\n",
    "df_daily_returns.head()"
   ]
  },
  {
   "cell_type": "code",
   "execution_count": null,
   "metadata": {},
   "outputs": [],
   "source": [
    "# Set number of simulations\n",
    "num_sims = 500\n",
    "\n",
    "# Configure a Monte Carlo simulation to forecast one year daily returns\n",
    "MC_simulation_all = MCSimulation(\n",
    "    portfolio_data = df_portfolio_year,\n",
    "    weights = [1/10, 1/10, 1/10, 1/10, 1/10, 1/10, 1/10, 1/10, 1/10, 1/10],\n",
    "    num_simulation = num_sims,\n",
    "    num_trading_days = 252\n",
    ")\n",
    "MC_simulation_all.portfolio_data.head()"
   ]
  },
  {
   "cell_type": "code",
   "execution_count": null,
   "metadata": {},
   "outputs": [],
   "source": [
    "MC_simulation_all.calc_cumulative_return()"
   ]
  },
  {
   "cell_type": "code",
   "execution_count": null,
   "metadata": {},
   "outputs": [],
   "source": [
    "# Create line plot of cumulative returns for our portfolio\n",
    "all_line_plot = MC_simulation_all.plot_simulation()"
   ]
  },
  {
   "cell_type": "code",
   "execution_count": null,
   "metadata": {},
   "outputs": [],
   "source": [
    "# Create distribution plot of cumulative returns for our portfolio\n",
    "all_dist_plot = MC_simulation_all.plot_distribution()"
   ]
  },
  {
   "cell_type": "code",
   "execution_count": null,
   "metadata": {},
   "outputs": [],
   "source": [
    "# Fetch summary statistics from the Monte Carlo simulation results\n",
    "all_tbl = MC_simulation_all.summarize_cumulative_return()\n",
    "\n",
    "# Print summary statistics\n",
    "print(all_tbl)"
   ]
  },
  {
   "cell_type": "code",
   "execution_count": 18,
   "metadata": {},
   "outputs": [],
   "source": [
    "#Getting the Sharpe Ratio for each cryptocurrency\n",
    "btc_sharpe = round((df_daily_returns[\"BTC Close\"].mean() * 252) / (df_daily_returns[\"BTC Close\"].std() * np.sqrt(252)), 2)\n",
    "eth_sharpe = round((df_daily_returns[\"ETH Close\"].mean() * 252) / (df_daily_returns[\"ETH Close\"].std() * np.sqrt(252)), 2)\n",
    "ada_sharpe = round((df_daily_returns[\"ADA Close\"].mean() * 252) / (df_daily_returns[\"ADA Close\"].std() * np.sqrt(252)), 2)\n",
    "usdt_sharpe = round((df_daily_returns[\"USDT Close\"].mean() * 252) / (df_daily_returns[\"USDT Close\"].std() * np.sqrt(252)), 2)\n",
    "ltc_sharpe = round((df_daily_returns[\"LTC Close\"].mean() * 252) / (df_daily_returns[\"LTC Close\"].std() * np.sqrt(252)), 2)\n",
    "dgb_sharpe = round((df_daily_returns[\"DGB Close\"].mean() * 252) / (df_daily_returns[\"DGB Close\"].std() * np.sqrt(252)), 2)\n",
    "xrp_sharpe = round((df_daily_returns[\"XRP Close\"].mean() * 252) / (df_daily_returns[\"XRP Close\"].std() * np.sqrt(252)), 2)\n",
    "trx_sharpe = round((df_daily_returns[\"TRX Close\"].mean() * 252) / (df_daily_returns[\"TRX Close\"].std() * np.sqrt(252)), 2)\n",
    "tusd_sharpe = round((df_daily_returns[\"TUSD Close\"].mean() * 252) / (df_daily_returns[\"TUSD Close\"].std() * np.sqrt(252)), 2)\n",
    "bsv_sharpe = round((df_daily_returns[\"BSV Close\"].mean() * 252) / (df_daily_returns[\"BSV Close\"].std() * np.sqrt(252)), 2)"
   ]
  },
  {
   "cell_type": "code",
   "execution_count": 19,
   "metadata": {},
   "outputs": [
    {
     "name": "stdout",
     "output_type": "stream",
     "text": [
      "The Sharpe Ratio of BTC is 1.74\n",
      "The Sharpe Ratio of ETH is 1.51\n",
      "The Sharpe Ratio of ADA is 1.57\n",
      "The Sharpe Ratio of USDT is 0.06\n",
      "The Sharpe Ratio of LTC is 0.92\n",
      "The Sharpe Ratio of DGB is 1.04\n",
      "The Sharpe Ratio of XRP is 0.65\n",
      "The Sharpe Ratio of TRX is 0.83\n",
      "The Sharpe Ratio of TUSD is 0.04\n",
      "The Sharpe Ratio of BSV is 0.83\n"
     ]
    }
   ],
   "source": [
    "print(f\"The Sharpe Ratio of BTC is {btc_sharpe}\")\n",
    "print(f\"The Sharpe Ratio of ETH is {eth_sharpe}\")\n",
    "print(f\"The Sharpe Ratio of ADA is {ada_sharpe}\")\n",
    "print(f\"The Sharpe Ratio of USDT is {usdt_sharpe}\")\n",
    "print(f\"The Sharpe Ratio of LTC is {ltc_sharpe}\")\n",
    "print(f\"The Sharpe Ratio of DGB is {dgb_sharpe}\")\n",
    "print(f\"The Sharpe Ratio of XRP is {xrp_sharpe}\")\n",
    "print(f\"The Sharpe Ratio of TRX is {trx_sharpe}\")\n",
    "print(f\"The Sharpe Ratio of TUSD is {tusd_sharpe}\")\n",
    "print(f\"The Sharpe Ratio of BSV is {bsv_sharpe}\")"
   ]
  },
  {
   "cell_type": "code",
   "execution_count": null,
   "metadata": {},
   "outputs": [],
   "source": []
  }
 ],
 "metadata": {
  "kernelspec": {
   "display_name": "Python [conda env:pyvizenv2] *",
   "language": "python",
   "name": "conda-env-pyvizenv2-py"
  },
  "language_info": {
   "codemirror_mode": {
    "name": "ipython",
    "version": 3
   },
   "file_extension": ".py",
   "mimetype": "text/x-python",
   "name": "python",
   "nbconvert_exporter": "python",
   "pygments_lexer": "ipython3",
   "version": "3.7.9"
  }
 },
 "nbformat": 4,
 "nbformat_minor": 4
}

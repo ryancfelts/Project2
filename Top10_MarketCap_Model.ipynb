{
  "nbformat": 4,
  "nbformat_minor": 0,
  "metadata": {
    "kernelspec": {
      "display_name": "Python 3",
      "language": "python",
      "name": "python3"
    },
    "language_info": {
      "codemirror_mode": {
        "name": "ipython",
        "version": 3
      },
      "file_extension": ".py",
      "mimetype": "text/x-python",
      "name": "python",
      "nbconvert_exporter": "python",
      "pygments_lexer": "ipython3",
      "version": "3.8.5"
    },
    "colab": {
      "name": "Top10_MarketCap_Model.ipynb",
      "provenance": []
    }
  },
  "cells": [
    {
      "cell_type": "markdown",
      "metadata": {
        "id": "HNioxCl1RobD"
      },
      "source": [
        "LSTM Stock Predictor \n",
        "Data Preparation\n",
        "In this section, we will prepare the training and testing data for the LSTM model.\n",
        "\n",
        "Using the window_data function to generate the X and y values for the model.\n",
        "Split the data into 70% training and 30% testing\n",
        "Apply the MinMaxScaler to the X and y values\n",
        "Reshape the X_train and X_test data for the model.\n",
        "Note: The required input format for the LSTM is: reshape((X_train.shape[0], X_train.shape[1], 1))\n"
      ]
    },
    {
      "cell_type": "code",
      "metadata": {
        "colab": {
          "base_uri": "https://localhost:8080/"
        },
        "id": "C6WAgBBBpIvQ",
        "outputId": "bc87a2b2-a0a3-4be9-889e-2448c737784f"
      },
      "source": [
        "# Import libraries and dependencies\n",
        "!pip install alpaca_trade_api\n",
        "\n",
        "# Initial imports\n",
        "import numpy as np\n",
        "import pandas as pd\n",
        "from pathlib import Path\n",
        "\n",
        "%matplotlib inline\n",
        "\n",
        "import warnings\n",
        "warnings.filterwarnings('ignore')"
      ],
      "execution_count": 47,
      "outputs": [
        {
          "output_type": "stream",
          "text": [
            "Requirement already satisfied: alpaca_trade_api in /usr/local/lib/python3.7/dist-packages (1.1.0)\n",
            "Requirement already satisfied: urllib3<2,>1.24 in /usr/local/lib/python3.7/dist-packages (from alpaca_trade_api) (1.24.3)\n",
            "Requirement already satisfied: pandas in /usr/local/lib/python3.7/dist-packages (from alpaca_trade_api) (1.1.5)\n",
            "Requirement already satisfied: numpy in /usr/local/lib/python3.7/dist-packages (from alpaca_trade_api) (1.19.5)\n",
            "Requirement already satisfied: msgpack==1.0.2 in /usr/local/lib/python3.7/dist-packages (from alpaca_trade_api) (1.0.2)\n",
            "Requirement already satisfied: websockets<9,>=8.0 in /usr/local/lib/python3.7/dist-packages (from alpaca_trade_api) (8.1)\n",
            "Requirement already satisfied: requests<3,>2 in /usr/local/lib/python3.7/dist-packages (from alpaca_trade_api) (2.23.0)\n",
            "Requirement already satisfied: websocket-client<1,>=0.56.0 in /usr/local/lib/python3.7/dist-packages (from alpaca_trade_api) (0.58.0)\n",
            "Requirement already satisfied: python-dateutil>=2.7.3 in /usr/local/lib/python3.7/dist-packages (from pandas->alpaca_trade_api) (2.8.1)\n",
            "Requirement already satisfied: pytz>=2017.2 in /usr/local/lib/python3.7/dist-packages (from pandas->alpaca_trade_api) (2018.9)\n",
            "Requirement already satisfied: chardet<4,>=3.0.2 in /usr/local/lib/python3.7/dist-packages (from requests<3,>2->alpaca_trade_api) (3.0.4)\n",
            "Requirement already satisfied: certifi>=2017.4.17 in /usr/local/lib/python3.7/dist-packages (from requests<3,>2->alpaca_trade_api) (2020.12.5)\n",
            "Requirement already satisfied: idna<3,>=2.5 in /usr/local/lib/python3.7/dist-packages (from requests<3,>2->alpaca_trade_api) (2.10)\n",
            "Requirement already satisfied: six in /usr/local/lib/python3.7/dist-packages (from websocket-client<1,>=0.56.0->alpaca_trade_api) (1.15.0)\n"
          ],
          "name": "stdout"
        }
      ]
    },
    {
      "cell_type": "markdown",
      "metadata": {
        "id": "1CwbSHH3Ri7z"
      },
      "source": [
        ""
      ]
    },
    {
      "cell_type": "code",
      "metadata": {
        "id": "7BX_XkICpIvS"
      },
      "source": [
        "# Load .env enviroment variables\n",
        "#from dotenv import load_dotenv\n",
        "#load_dotenv()\n",
        "\n",
        "# Set Alpaca API key and secret\n",
        "#alpaca_api_key = os.getenv(\"ALPACA_API_KEY\")\n",
        "#alpaca_secret_key = os.getenv(\"ALPACA_SECRET_KEY\")\n",
        "\n",
        "alpaca_api_key = 'AKRU2788FFAG4PTQ3BR1'\n",
        "alpaca_secret_key = 'ItFLWJ3MWxmgB1gmFVWkgApGhQj41zLTDtqY1OuN'\n",
        "\n",
        "api = tradeapi.REST(\n",
        "    alpaca_api_key,\n",
        "    alpaca_secret_key,\n",
        "    api_version = \"v2\"\n",
        ")"
      ],
      "execution_count": 19,
      "outputs": []
    },
    {
      "cell_type": "markdown",
      "metadata": {
        "id": "npegQg5HWppu"
      },
      "source": [
        "### Data Loading\n",
        "\n",
        "In this activity, we will use closing prices from different stocks to make predictions of future closing prices based on the temporal data of each stock."
      ]
    },
    {
      "cell_type": "code",
      "metadata": {
        "colab": {
          "base_uri": "https://localhost:8080/",
          "height": 543
        },
        "id": "1d1fZk7IpIvT",
        "outputId": "68f2c4fc-abc8-4260-93a2-40a30688a14b"
      },
      "source": [
        "# Set the ticker \"AAPL\",\"MSFT\",\"AMZN\",\"GOOG\",\"FB\",\"TSLA\",\"BRK.A\",\"V\",\"JPM\",\"JNJ\". These are the top 10 US stocks on the NYSE by MarketCap found on  stock found http://www.iweblists.com/us/commerce/MarketCapitalization.html\n",
        "ticker =[\"AAPL\",\"MSFT\",\"AMZN\",\"GOOG\",\"FB\",\"TSLA\",\"BRK.A\",\"V\",\"JPM\",\"JNJ\"]\n",
        "\n",
        "# Set timeframe to '1D'\n",
        "timeframe = \"1D\"\n",
        "\n",
        "# Set start and end datetimes of 2 years from Today\n",
        "start_date = pd.Timestamp(\"2019-04-20\", tz=\"America/New_York\").isoformat()\n",
        "end_date = pd.Timestamp(\"2021-04-20\", tz=\"America/New_York\").isoformat()\n",
        "\n",
        "# Get 1 year's worth of historical data for \"AAPL\",\"MSFT\",\"AMZN\",\"GOOG\",\"FB\",\"TSLA\",\"BRK.A\",\"V\",\"JPM\",\"JNJ\".\n",
        "df_portfolio_year = api.get_barset(\n",
        "    ticker,\n",
        "    timeframe,\n",
        "    start=start_date,\n",
        "    end=end_date\n",
        ").df\n",
        "\n",
        "df_portfolio_year.head()\n",
        "ticker =[\"SPY\"]\n",
        "\n",
        "# Set timeframe to '1D'\n",
        "timeframe = \"1D\"\n",
        "\n",
        "#year data of the top 10 highest market cap\n",
        "df_portfolio_year.head()"
      ],
      "execution_count": 48,
      "outputs": [
        {
          "output_type": "execute_result",
          "data": {
            "text/html": [
              "<div>\n",
              "<style scoped>\n",
              "    .dataframe tbody tr th:only-of-type {\n",
              "        vertical-align: middle;\n",
              "    }\n",
              "\n",
              "    .dataframe tbody tr th {\n",
              "        vertical-align: top;\n",
              "    }\n",
              "\n",
              "    .dataframe thead tr th {\n",
              "        text-align: left;\n",
              "    }\n",
              "\n",
              "    .dataframe thead tr:last-of-type th {\n",
              "        text-align: right;\n",
              "    }\n",
              "</style>\n",
              "<table border=\"1\" class=\"dataframe\">\n",
              "  <thead>\n",
              "    <tr>\n",
              "      <th></th>\n",
              "      <th colspan=\"5\" halign=\"left\">AAPL</th>\n",
              "      <th colspan=\"5\" halign=\"left\">AMZN</th>\n",
              "      <th colspan=\"5\" halign=\"left\">BRK.A</th>\n",
              "      <th colspan=\"5\" halign=\"left\">FB</th>\n",
              "      <th colspan=\"5\" halign=\"left\">GOOG</th>\n",
              "      <th colspan=\"5\" halign=\"left\">JNJ</th>\n",
              "      <th colspan=\"5\" halign=\"left\">JPM</th>\n",
              "      <th colspan=\"5\" halign=\"left\">MSFT</th>\n",
              "      <th colspan=\"5\" halign=\"left\">TSLA</th>\n",
              "      <th colspan=\"5\" halign=\"left\">V</th>\n",
              "    </tr>\n",
              "    <tr>\n",
              "      <th></th>\n",
              "      <th>open</th>\n",
              "      <th>high</th>\n",
              "      <th>low</th>\n",
              "      <th>close</th>\n",
              "      <th>volume</th>\n",
              "      <th>open</th>\n",
              "      <th>high</th>\n",
              "      <th>low</th>\n",
              "      <th>close</th>\n",
              "      <th>volume</th>\n",
              "      <th>open</th>\n",
              "      <th>high</th>\n",
              "      <th>low</th>\n",
              "      <th>close</th>\n",
              "      <th>volume</th>\n",
              "      <th>open</th>\n",
              "      <th>high</th>\n",
              "      <th>low</th>\n",
              "      <th>close</th>\n",
              "      <th>volume</th>\n",
              "      <th>open</th>\n",
              "      <th>high</th>\n",
              "      <th>low</th>\n",
              "      <th>close</th>\n",
              "      <th>volume</th>\n",
              "      <th>open</th>\n",
              "      <th>high</th>\n",
              "      <th>low</th>\n",
              "      <th>close</th>\n",
              "      <th>volume</th>\n",
              "      <th>open</th>\n",
              "      <th>high</th>\n",
              "      <th>low</th>\n",
              "      <th>close</th>\n",
              "      <th>volume</th>\n",
              "      <th>open</th>\n",
              "      <th>high</th>\n",
              "      <th>low</th>\n",
              "      <th>close</th>\n",
              "      <th>volume</th>\n",
              "      <th>open</th>\n",
              "      <th>high</th>\n",
              "      <th>low</th>\n",
              "      <th>close</th>\n",
              "      <th>volume</th>\n",
              "      <th>open</th>\n",
              "      <th>high</th>\n",
              "      <th>low</th>\n",
              "      <th>close</th>\n",
              "      <th>volume</th>\n",
              "    </tr>\n",
              "    <tr>\n",
              "      <th>time</th>\n",
              "      <th></th>\n",
              "      <th></th>\n",
              "      <th></th>\n",
              "      <th></th>\n",
              "      <th></th>\n",
              "      <th></th>\n",
              "      <th></th>\n",
              "      <th></th>\n",
              "      <th></th>\n",
              "      <th></th>\n",
              "      <th></th>\n",
              "      <th></th>\n",
              "      <th></th>\n",
              "      <th></th>\n",
              "      <th></th>\n",
              "      <th></th>\n",
              "      <th></th>\n",
              "      <th></th>\n",
              "      <th></th>\n",
              "      <th></th>\n",
              "      <th></th>\n",
              "      <th></th>\n",
              "      <th></th>\n",
              "      <th></th>\n",
              "      <th></th>\n",
              "      <th></th>\n",
              "      <th></th>\n",
              "      <th></th>\n",
              "      <th></th>\n",
              "      <th></th>\n",
              "      <th></th>\n",
              "      <th></th>\n",
              "      <th></th>\n",
              "      <th></th>\n",
              "      <th></th>\n",
              "      <th></th>\n",
              "      <th></th>\n",
              "      <th></th>\n",
              "      <th></th>\n",
              "      <th></th>\n",
              "      <th></th>\n",
              "      <th></th>\n",
              "      <th></th>\n",
              "      <th></th>\n",
              "      <th></th>\n",
              "      <th></th>\n",
              "      <th></th>\n",
              "      <th></th>\n",
              "      <th></th>\n",
              "      <th></th>\n",
              "    </tr>\n",
              "  </thead>\n",
              "  <tbody>\n",
              "    <tr>\n",
              "      <th>2020-11-02 00:00:00-05:00</th>\n",
              "      <td>109.11</td>\n",
              "      <td>110.68</td>\n",
              "      <td>107.3200</td>\n",
              "      <td>108.770</td>\n",
              "      <td>106260834</td>\n",
              "      <td>3061.74</td>\n",
              "      <td>3079.705</td>\n",
              "      <td>2950.395</td>\n",
              "      <td>3004.48</td>\n",
              "      <td>6469197</td>\n",
              "      <td>307499.9</td>\n",
              "      <td>309542.00</td>\n",
              "      <td>305320.0</td>\n",
              "      <td>306282.0</td>\n",
              "      <td>375</td>\n",
              "      <td>264.7000</td>\n",
              "      <td>270.47</td>\n",
              "      <td>257.34</td>\n",
              "      <td>261.480</td>\n",
              "      <td>23473725</td>\n",
              "      <td>1628.16</td>\n",
              "      <td>1660.770</td>\n",
              "      <td>1616.0300</td>\n",
              "      <td>1625.44</td>\n",
              "      <td>2055642</td>\n",
              "      <td>138.980</td>\n",
              "      <td>139.01</td>\n",
              "      <td>137.49</td>\n",
              "      <td>138.69</td>\n",
              "      <td>10852951</td>\n",
              "      <td>99.39</td>\n",
              "      <td>100.880</td>\n",
              "      <td>97.86</td>\n",
              "      <td>100.24</td>\n",
              "      <td>23805068</td>\n",
              "      <td>204.2735</td>\n",
              "      <td>205.28</td>\n",
              "      <td>200.1300</td>\n",
              "      <td>202.32</td>\n",
              "      <td>23032873</td>\n",
              "      <td>394.00</td>\n",
              "      <td>406.9799</td>\n",
              "      <td>392.3000</td>\n",
              "      <td>400.51</td>\n",
              "      <td>26759798</td>\n",
              "      <td>184.51</td>\n",
              "      <td>186.92</td>\n",
              "      <td>183.8900</td>\n",
              "      <td>184.68</td>\n",
              "      <td>13860489</td>\n",
              "    </tr>\n",
              "    <tr>\n",
              "      <th>2020-11-03 00:00:00-05:00</th>\n",
              "      <td>109.66</td>\n",
              "      <td>111.47</td>\n",
              "      <td>108.7300</td>\n",
              "      <td>110.375</td>\n",
              "      <td>93660131</td>\n",
              "      <td>3018.53</td>\n",
              "      <td>3074.900</td>\n",
              "      <td>2980.980</td>\n",
              "      <td>3046.25</td>\n",
              "      <td>4399819</td>\n",
              "      <td>312300.0</td>\n",
              "      <td>314780.00</td>\n",
              "      <td>310000.0</td>\n",
              "      <td>310000.0</td>\n",
              "      <td>689</td>\n",
              "      <td>263.1600</td>\n",
              "      <td>270.03</td>\n",
              "      <td>260.88</td>\n",
              "      <td>265.080</td>\n",
              "      <td>15396707</td>\n",
              "      <td>1631.78</td>\n",
              "      <td>1661.700</td>\n",
              "      <td>1616.6201</td>\n",
              "      <td>1649.28</td>\n",
              "      <td>1235995</td>\n",
              "      <td>140.190</td>\n",
              "      <td>140.96</td>\n",
              "      <td>137.78</td>\n",
              "      <td>138.40</td>\n",
              "      <td>9570050</td>\n",
              "      <td>103.02</td>\n",
              "      <td>104.740</td>\n",
              "      <td>102.69</td>\n",
              "      <td>103.38</td>\n",
              "      <td>29015352</td>\n",
              "      <td>203.8900</td>\n",
              "      <td>208.12</td>\n",
              "      <td>203.1200</td>\n",
              "      <td>206.12</td>\n",
              "      <td>21783493</td>\n",
              "      <td>409.73</td>\n",
              "      <td>427.7700</td>\n",
              "      <td>406.6900</td>\n",
              "      <td>423.74</td>\n",
              "      <td>32428696</td>\n",
              "      <td>186.83</td>\n",
              "      <td>189.53</td>\n",
              "      <td>185.1600</td>\n",
              "      <td>188.14</td>\n",
              "      <td>11004582</td>\n",
              "    </tr>\n",
              "    <tr>\n",
              "      <th>2020-11-04 00:00:00-05:00</th>\n",
              "      <td>114.14</td>\n",
              "      <td>115.59</td>\n",
              "      <td>112.3500</td>\n",
              "      <td>114.940</td>\n",
              "      <td>114505478</td>\n",
              "      <td>3159.99</td>\n",
              "      <td>3244.850</td>\n",
              "      <td>3139.730</td>\n",
              "      <td>3241.16</td>\n",
              "      <td>5771116</td>\n",
              "      <td>310194.4</td>\n",
              "      <td>315300.00</td>\n",
              "      <td>307830.0</td>\n",
              "      <td>309812.0</td>\n",
              "      <td>445</td>\n",
              "      <td>281.0000</td>\n",
              "      <td>288.94</td>\n",
              "      <td>278.62</td>\n",
              "      <td>287.450</td>\n",
              "      <td>29987921</td>\n",
              "      <td>1710.28</td>\n",
              "      <td>1771.365</td>\n",
              "      <td>1706.0302</td>\n",
              "      <td>1749.14</td>\n",
              "      <td>2907460</td>\n",
              "      <td>139.490</td>\n",
              "      <td>142.54</td>\n",
              "      <td>138.70</td>\n",
              "      <td>139.40</td>\n",
              "      <td>15062808</td>\n",
              "      <td>101.00</td>\n",
              "      <td>102.070</td>\n",
              "      <td>98.93</td>\n",
              "      <td>100.22</td>\n",
              "      <td>29398760</td>\n",
              "      <td>214.0200</td>\n",
              "      <td>218.32</td>\n",
              "      <td>212.4185</td>\n",
              "      <td>216.32</td>\n",
              "      <td>33010015</td>\n",
              "      <td>430.62</td>\n",
              "      <td>435.4000</td>\n",
              "      <td>417.1000</td>\n",
              "      <td>420.91</td>\n",
              "      <td>29547113</td>\n",
              "      <td>192.89</td>\n",
              "      <td>196.88</td>\n",
              "      <td>191.5300</td>\n",
              "      <td>193.97</td>\n",
              "      <td>13258190</td>\n",
              "    </tr>\n",
              "    <tr>\n",
              "      <th>2020-11-05 00:00:00-05:00</th>\n",
              "      <td>117.99</td>\n",
              "      <td>119.62</td>\n",
              "      <td>116.8686</td>\n",
              "      <td>118.990</td>\n",
              "      <td>107993032</td>\n",
              "      <td>3319.97</td>\n",
              "      <td>3366.800</td>\n",
              "      <td>3288.880</td>\n",
              "      <td>3322.00</td>\n",
              "      <td>4939019</td>\n",
              "      <td>314269.0</td>\n",
              "      <td>316425.94</td>\n",
              "      <td>311283.9</td>\n",
              "      <td>311557.0</td>\n",
              "      <td>372</td>\n",
              "      <td>291.8965</td>\n",
              "      <td>297.38</td>\n",
              "      <td>288.95</td>\n",
              "      <td>294.715</td>\n",
              "      <td>21054834</td>\n",
              "      <td>1781.00</td>\n",
              "      <td>1793.640</td>\n",
              "      <td>1750.5100</td>\n",
              "      <td>1764.48</td>\n",
              "      <td>1701715</td>\n",
              "      <td>140.555</td>\n",
              "      <td>141.83</td>\n",
              "      <td>139.26</td>\n",
              "      <td>139.82</td>\n",
              "      <td>11073827</td>\n",
              "      <td>101.06</td>\n",
              "      <td>105.095</td>\n",
              "      <td>101.00</td>\n",
              "      <td>104.35</td>\n",
              "      <td>27875240</td>\n",
              "      <td>221.9000</td>\n",
              "      <td>224.11</td>\n",
              "      <td>221.1500</td>\n",
              "      <td>223.29</td>\n",
              "      <td>28617137</td>\n",
              "      <td>428.30</td>\n",
              "      <td>440.0000</td>\n",
              "      <td>424.0001</td>\n",
              "      <td>438.09</td>\n",
              "      <td>26009397</td>\n",
              "      <td>198.36</td>\n",
              "      <td>200.99</td>\n",
              "      <td>197.2900</td>\n",
              "      <td>197.57</td>\n",
              "      <td>12686471</td>\n",
              "    </tr>\n",
              "    <tr>\n",
              "      <th>2020-11-06 00:00:00-05:00</th>\n",
              "      <td>118.32</td>\n",
              "      <td>119.20</td>\n",
              "      <td>116.1300</td>\n",
              "      <td>118.685</td>\n",
              "      <td>99225280</td>\n",
              "      <td>3304.64</td>\n",
              "      <td>3322.000</td>\n",
              "      <td>3232.000</td>\n",
              "      <td>3310.41</td>\n",
              "      <td>4119260</td>\n",
              "      <td>312250.0</td>\n",
              "      <td>315310.00</td>\n",
              "      <td>311917.0</td>\n",
              "      <td>313464.0</td>\n",
              "      <td>456</td>\n",
              "      <td>293.9500</td>\n",
              "      <td>294.60</td>\n",
              "      <td>288.06</td>\n",
              "      <td>293.410</td>\n",
              "      <td>11926170</td>\n",
              "      <td>1753.95</td>\n",
              "      <td>1772.430</td>\n",
              "      <td>1740.3500</td>\n",
              "      <td>1762.24</td>\n",
              "      <td>1338444</td>\n",
              "      <td>140.400</td>\n",
              "      <td>143.19</td>\n",
              "      <td>139.65</td>\n",
              "      <td>142.25</td>\n",
              "      <td>9788347</td>\n",
              "      <td>105.03</td>\n",
              "      <td>105.100</td>\n",
              "      <td>102.39</td>\n",
              "      <td>103.00</td>\n",
              "      <td>20794565</td>\n",
              "      <td>222.2600</td>\n",
              "      <td>224.32</td>\n",
              "      <td>218.0300</td>\n",
              "      <td>223.62</td>\n",
              "      <td>20598219</td>\n",
              "      <td>436.10</td>\n",
              "      <td>436.5700</td>\n",
              "      <td>424.2800</td>\n",
              "      <td>429.92</td>\n",
              "      <td>20292375</td>\n",
              "      <td>197.35</td>\n",
              "      <td>199.68</td>\n",
              "      <td>195.4265</td>\n",
              "      <td>198.50</td>\n",
              "      <td>10407064</td>\n",
              "    </tr>\n",
              "  </tbody>\n",
              "</table>\n",
              "</div>"
            ],
            "text/plain": [
              "                             AAPL                    ...         V                  \n",
              "                             open    high       low  ...       low   close    volume\n",
              "time                                                 ...                            \n",
              "2020-11-02 00:00:00-05:00  109.11  110.68  107.3200  ...  183.8900  184.68  13860489\n",
              "2020-11-03 00:00:00-05:00  109.66  111.47  108.7300  ...  185.1600  188.14  11004582\n",
              "2020-11-04 00:00:00-05:00  114.14  115.59  112.3500  ...  191.5300  193.97  13258190\n",
              "2020-11-05 00:00:00-05:00  117.99  119.62  116.8686  ...  197.2900  197.57  12686471\n",
              "2020-11-06 00:00:00-05:00  118.32  119.20  116.1300  ...  195.4265  198.50  10407064\n",
              "\n",
              "[5 rows x 50 columns]"
            ]
          },
          "metadata": {
            "tags": []
          },
          "execution_count": 48
        }
      ]
    },
    {
      "cell_type": "code",
      "metadata": {
        "id": "Ffob_ZBhpIvT"
      },
      "source": [
        "# Create and empty DataFrame for closing prices for \"SQ\",\"ADYEY\",\"MELI\",\"GDOT\",\"PYPL\",\"FISV\",\"PFE\",\"GS\",\"V\",\"AXP\",\"SPY\"\n",
        "df_closing_prices = pd.DataFrame()\n",
        "\n",
        "# Fetch the closing prices of \"SQ\",\"ADYEY\",\"MELI\",\"GDOT\",\"PYPL\",\"FISV\",\"GS\",\"V\",\"AXP\",\"SPY\"\n",
        "df_closing_prices[\"AAPL\"] = df_portfolio_year[\"AAPL\"][\"close\"]\n",
        "df_closing_prices[\"MSFT\"] = df_portfolio_year[\"MSFT\"][\"close\"]\n",
        "df_closing_prices[\"AMZN\"] = df_portfolio_year[\"AMZN\"][\"close\"]\n",
        "df_closing_prices[\"GOOG\"] = df_portfolio_year[\"GOOG\"][\"close\"]\n",
        "df_closing_prices[\"FB\"] = df_portfolio_year[\"FB\"][\"close\"]\n",
        "df_closing_prices[\"TSLA\"] = df_portfolio_year[\"TSLA\"][\"close\"]\n",
        "df_closing_prices[\"BRK.A\"] = df_portfolio_year[\"BRK.A\"][\"close\"]\n",
        "df_closing_prices[\"V\"] = df_portfolio_year[\"V\"][\"close\"]\n",
        "df_closing_prices[\"JPM\"] = df_portfolio_year[\"JPM\"][\"close\"]\n",
        "df_closing_prices[\"JNJ\"] = df_portfolio_year[\"JNJ\"][\"close\"]\n",
        "\n",
        "# Drop the time component of the date\n",
        "df_closing_prices.index = df_closing_prices.index.date"
      ],
      "execution_count": 49,
      "outputs": []
    },
    {
      "cell_type": "code",
      "metadata": {
        "colab": {
          "base_uri": "https://localhost:8080/",
          "height": 202
        },
        "id": "Ayup8KOcpIvU",
        "outputId": "695c1e11-e812-4de1-e730-a7404b8b8551"
      },
      "source": [
        "# Compute daily returns after cleaning the null values if any\n",
        "df_daily_returns = df_closing_prices.pct_change().dropna()\n",
        "df_daily_returns.head()"
      ],
      "execution_count": 50,
      "outputs": [
        {
          "output_type": "execute_result",
          "data": {
            "text/html": [
              "<div>\n",
              "<style scoped>\n",
              "    .dataframe tbody tr th:only-of-type {\n",
              "        vertical-align: middle;\n",
              "    }\n",
              "\n",
              "    .dataframe tbody tr th {\n",
              "        vertical-align: top;\n",
              "    }\n",
              "\n",
              "    .dataframe thead th {\n",
              "        text-align: right;\n",
              "    }\n",
              "</style>\n",
              "<table border=\"1\" class=\"dataframe\">\n",
              "  <thead>\n",
              "    <tr style=\"text-align: right;\">\n",
              "      <th></th>\n",
              "      <th>AAPL</th>\n",
              "      <th>MSFT</th>\n",
              "      <th>AMZN</th>\n",
              "      <th>GOOG</th>\n",
              "      <th>FB</th>\n",
              "      <th>TSLA</th>\n",
              "      <th>BRK.A</th>\n",
              "      <th>V</th>\n",
              "      <th>JPM</th>\n",
              "      <th>JNJ</th>\n",
              "    </tr>\n",
              "  </thead>\n",
              "  <tbody>\n",
              "    <tr>\n",
              "      <th>2020-11-03</th>\n",
              "      <td>0.014756</td>\n",
              "      <td>0.018782</td>\n",
              "      <td>0.013903</td>\n",
              "      <td>0.014667</td>\n",
              "      <td>0.013768</td>\n",
              "      <td>0.058001</td>\n",
              "      <td>0.012139</td>\n",
              "      <td>0.018735</td>\n",
              "      <td>0.031325</td>\n",
              "      <td>-0.002091</td>\n",
              "    </tr>\n",
              "    <tr>\n",
              "      <th>2020-11-04</th>\n",
              "      <td>0.041359</td>\n",
              "      <td>0.049486</td>\n",
              "      <td>0.063984</td>\n",
              "      <td>0.060548</td>\n",
              "      <td>0.084390</td>\n",
              "      <td>-0.006679</td>\n",
              "      <td>-0.000606</td>\n",
              "      <td>0.030988</td>\n",
              "      <td>-0.030567</td>\n",
              "      <td>0.007225</td>\n",
              "    </tr>\n",
              "    <tr>\n",
              "      <th>2020-11-05</th>\n",
              "      <td>0.035236</td>\n",
              "      <td>0.032221</td>\n",
              "      <td>0.024942</td>\n",
              "      <td>0.008770</td>\n",
              "      <td>0.025274</td>\n",
              "      <td>0.040816</td>\n",
              "      <td>0.005632</td>\n",
              "      <td>0.018560</td>\n",
              "      <td>0.041209</td>\n",
              "      <td>0.003013</td>\n",
              "    </tr>\n",
              "    <tr>\n",
              "      <th>2020-11-06</th>\n",
              "      <td>-0.002563</td>\n",
              "      <td>0.001478</td>\n",
              "      <td>-0.003489</td>\n",
              "      <td>-0.001269</td>\n",
              "      <td>-0.004428</td>\n",
              "      <td>-0.018649</td>\n",
              "      <td>0.006121</td>\n",
              "      <td>0.004707</td>\n",
              "      <td>-0.012937</td>\n",
              "      <td>0.017379</td>\n",
              "    </tr>\n",
              "    <tr>\n",
              "      <th>2020-11-09</th>\n",
              "      <td>-0.019927</td>\n",
              "      <td>-0.023611</td>\n",
              "      <td>-0.051072</td>\n",
              "      <td>-0.000715</td>\n",
              "      <td>-0.050544</td>\n",
              "      <td>-0.019841</td>\n",
              "      <td>0.059244</td>\n",
              "      <td>0.071990</td>\n",
              "      <td>0.135728</td>\n",
              "      <td>0.026924</td>\n",
              "    </tr>\n",
              "  </tbody>\n",
              "</table>\n",
              "</div>"
            ],
            "text/plain": [
              "                AAPL      MSFT      AMZN  ...         V       JPM       JNJ\n",
              "2020-11-03  0.014756  0.018782  0.013903  ...  0.018735  0.031325 -0.002091\n",
              "2020-11-04  0.041359  0.049486  0.063984  ...  0.030988 -0.030567  0.007225\n",
              "2020-11-05  0.035236  0.032221  0.024942  ...  0.018560  0.041209  0.003013\n",
              "2020-11-06 -0.002563  0.001478 -0.003489  ...  0.004707 -0.012937  0.017379\n",
              "2020-11-09 -0.019927 -0.023611 -0.051072  ...  0.071990  0.135728  0.026924\n",
              "\n",
              "[5 rows x 10 columns]"
            ]
          },
          "metadata": {
            "tags": []
          },
          "execution_count": 50
        }
      ]
    },
    {
      "cell_type": "markdown",
      "metadata": {
        "id": "3l7loRkIXah0"
      },
      "source": [
        "### Creating the Features `X` and Target `y` Data\n",
        "\n",
        "The first step towards preparing the data is to create the input features vectors `X` and the target vector `y`. We will use the `window_data()` function to create these vectors.\n",
        "\n",
        "This function chunks the data up with a rolling window of _X<sub>t</sub> - window_ to predict _X<sub>t</sub>_.\n",
        "\n",
        "The function returns two `numpy` arrays:\n",
        "\n",
        "* `X`: The input features vectors.\n",
        "\n",
        "* `y`: The target vector.\n",
        "\n",
        "The function has the following parameters:\n",
        "\n",
        "* `df`: The original DataFrame with the time series data.\n",
        "\n",
        "* `window`: The window size in days of previous closing prices that will be used for the prediction.\n",
        "\n",
        "* `feature_col_number`: The column number from the original DataFrame where the features are located.\n",
        "\n",
        "* `target_col_number`: The column number from the original DataFrame where the target is located."
      ]
    },
    {
      "cell_type": "code",
      "metadata": {
        "id": "N5QaF5pmpIvU"
      },
      "source": [
        "\n",
        "def window_data(df_daily_returns, window, feature_col_number, target_col_number):\n",
        "    \"\"\"\n",
        "    This function accepts the column number for the features (X) and the target (y).\n",
        "    It chunks the data up with a rolling window of Xt - window to predict Xt.\n",
        "    It returns two numpy arrays of X and y.\n",
        "    \"\"\"\n",
        "    X = []\n",
        "    y = []\n",
        "    for i in range(len(df_daily_returns) - window):\n",
        "        features = df_daily_returns.iloc[i : (i + window), feature_col_number]\n",
        "        target = df_daily_returns.iloc[(i + window), target_col_number]\n",
        "        X.append(features)\n",
        "        y.append(target)\n",
        "    return np.array(X), np.array(y).reshape(-1, 1)\n"
      ],
      "execution_count": 30,
      "outputs": []
    },
    {
      "cell_type": "code",
      "metadata": {
        "colab": {
          "base_uri": "https://localhost:8080/"
        },
        "id": "mR0wwYMyNJ91",
        "outputId": "5975c9bb-d6ce-4afb-a6a6-780e097c20d1"
      },
      "source": [
        "# Creating the features (X) and target (y) data using the window_data() function.\n",
        "window_size = 5\n",
        "\n",
        "feature_column = 2\n",
        "target_column = 2\n",
        "X, y = window_data(df_daily_returns, window_size, feature_column, target_column)\n",
        "print (f\"X sample values:\\n{X[:5]} \\n\")\n",
        "print (f\"y sample values:\\n{y[:5]}\")"
      ],
      "execution_count": 31,
      "outputs": [
        {
          "output_type": "stream",
          "text": [
            "X sample values:\n",
            "[[ 0.01390257  0.06398359  0.02494169 -0.00348886 -0.05107222]\n",
            " [ 0.06398359  0.02494169 -0.00348886 -0.05107222 -0.0337945 ]\n",
            " [ 0.02494169 -0.00348886 -0.05107222 -0.0337945   0.03348401]\n",
            " [-0.00348886 -0.05107222 -0.0337945   0.03348401 -0.00848314]\n",
            " [-0.05107222 -0.0337945   0.03348401 -0.00848314  0.00768118]] \n",
            "\n",
            "y sample values:\n",
            "[[-0.0337945 ]\n",
            " [ 0.03348401]\n",
            " [-0.00848314]\n",
            " [ 0.00768118]\n",
            " [-0.00035098]]\n"
          ],
          "name": "stdout"
        }
      ]
    },
    {
      "cell_type": "markdown",
      "metadata": {
        "id": "-mxi3AgkXmBr"
      },
      "source": [
        "### Splitting Data Between Training and Testing Sets\n",
        "\n",
        "To avoid the dataset being randomized, we will manually split the data using array slicing."
      ]
    },
    {
      "cell_type": "code",
      "metadata": {
        "id": "O7hCMErzNPJt"
      },
      "source": [
        "# Use 70% of the data for training and the remainder for testing\n",
        "split = int(0.7 * len(X))\n",
        "X_train = X[: split]\n",
        "X_test = X[split:]\n",
        "y_train = y[: split]\n",
        "y_test = y[split:]"
      ],
      "execution_count": 32,
      "outputs": []
    },
    {
      "cell_type": "markdown",
      "metadata": {
        "id": "NyhyBqnNXtos"
      },
      "source": [
        "### Scaling Data with `MinMaxScaler`\n",
        "\n",
        "Once the training and test datasets are created, we need to scale the data before training the LSTM model. We will use the `MinMaxScaler` from `sklearn` to scale all values between `0` and `1`.\n",
        "\n",
        "Note that we scale both features and target sets."
      ]
    },
    {
      "cell_type": "code",
      "metadata": {
        "id": "ndDJuU-_N9BV"
      },
      "source": [
        "# Use the MinMaxScaler to scale data between 0 and 1.\n",
        "from sklearn.preprocessing import MinMaxScaler\n",
        "\n",
        "scaler = MinMaxScaler()\n",
        "scaler.fit(X)\n",
        "X_train = scaler.transform(X_train)\n",
        "X_test = scaler.transform(X_test)\n",
        "scaler.fit(y)\n",
        "y_train = scaler.transform(y_train)\n",
        "y_test = scaler.transform(y_test)"
      ],
      "execution_count": 33,
      "outputs": []
    },
    {
      "cell_type": "markdown",
      "metadata": {
        "id": "X450KPOZX0ez"
      },
      "source": [
        "### Reshape Features Data for the LSTM Model\n",
        "\n",
        "The LSTM API from Keras needs to receive the features data as a _vertical vector_, so that we need to reshape the `X` data in the form `reshape((X_train.shape[0], X_train.shape[1], 1))`.\n",
        "\n",
        "Both sets, training, and testing are reshaped."
      ]
    },
    {
      "cell_type": "code",
      "metadata": {
        "colab": {
          "base_uri": "https://localhost:8080/"
        },
        "id": "oH0LjY0bOB5Z",
        "outputId": "589e2b02-86b8-44ad-faa7-68084822cd8d"
      },
      "source": [
        "# Reshape the features for the model\n",
        "X_train = X_train.reshape((X_train.shape[0], X_train.shape[1], 1))\n",
        "X_test = X_test.reshape((X_test.shape[0], X_test.shape[1], 1))\n",
        "print (f\"X_train sample values:\\n{X_train[:5]} \\n\")\n",
        "print (f\"X_test sample values:\\n{X_test[:5]}\")"
      ],
      "execution_count": 34,
      "outputs": [
        {
          "output_type": "stream",
          "text": [
            "X_train sample values:\n",
            "[[[0.56472416]\n",
            "  [1.        ]\n",
            "  [0.78264186]\n",
            "  [0.48991994]\n",
            "  [0.        ]]\n",
            "\n",
            " [[1.        ]\n",
            "  [0.66066991]\n",
            "  [0.48991994]\n",
            "  [0.        ]\n",
            "  [0.17789209]]\n",
            "\n",
            " [[0.66066991]\n",
            "  [0.41356765]\n",
            "  [0.        ]\n",
            "  [0.17789209]\n",
            "  [0.87059391]]\n",
            "\n",
            " [[0.41356765]\n",
            "  [0.        ]\n",
            "  [0.17789209]\n",
            "  [0.87059391]\n",
            "  [0.43849867]]\n",
            "\n",
            " [[0.        ]\n",
            "  [0.15016824]\n",
            "  [0.87059391]\n",
            "  [0.43849867]\n",
            "  [0.60492706]]] \n",
            "\n",
            "X_test sample values:\n",
            "[[[0.36870747]\n",
            "  [0.3955367 ]\n",
            "  [0.46848889]\n",
            "  [0.44771083]\n",
            "  [0.57865289]]\n",
            "\n",
            " [[0.3955367 ]\n",
            "  [0.39547656]\n",
            "  [0.44771083]\n",
            "  [0.57865289]\n",
            "  [0.49025854]]\n",
            "\n",
            " [[0.39547656]\n",
            "  [0.37793668]\n",
            "  [0.57865289]\n",
            "  [0.49025854]\n",
            "  [0.65426409]]\n",
            "\n",
            " [[0.37793668]\n",
            "  [0.48847189]\n",
            "  [0.49025854]\n",
            "  [0.65426409]\n",
            "  [0.59316807]]\n",
            "\n",
            " [[0.48847189]\n",
            "  [0.41385349]\n",
            "  [0.65426409]\n",
            "  [0.59316807]\n",
            "  [0.28330197]]]\n"
          ],
          "name": "stdout"
        }
      ]
    },
    {
      "cell_type": "markdown",
      "metadata": {
        "id": "Ep_ySsCqX9yV"
      },
      "source": [
        "---\n",
        "\n",
        "## Build and Train the LSTM RNN\n",
        "\n",
        "In this section, we will design a custom LSTM RNN in Keras and fit (train) it using the training data we defined.\n",
        "\n",
        "We will need to:\n",
        "\n",
        "1. Define the model architecture in Keras.\n",
        "\n",
        "2. Compile the model.\n",
        "\n",
        "3. Fit the model to the training data."
      ]
    },
    {
      "cell_type": "markdown",
      "metadata": {
        "id": "N9Zv2TkFYFS7"
      },
      "source": [
        "### Importing the Keras Modules\n",
        "\n",
        "The LSTM RNN model in Keras uses the `Sequential` model and the `LSTM` layer as we did before. However, there is a new type of layer called `Dropout`.\n",
        "\n",
        "* `Dropout`: Dropout is a regularization technique for reducing overfitting in neural networks. This type of layer applies the dropout technique to the input."
      ]
    },
    {
      "cell_type": "code",
      "metadata": {
        "id": "yZgxUpl_OJHU"
      },
      "source": [
        "# Import required Keras modules\n",
        "from tensorflow.keras.models import Sequential\n",
        "from tensorflow.keras.layers import LSTM, Dense, Dropout"
      ],
      "execution_count": 35,
      "outputs": []
    },
    {
      "cell_type": "markdown",
      "metadata": {
        "id": "RX6_PSQdYOH-"
      },
      "source": [
        "### Defining the LSTM RNN Model Structure\n",
        "\n",
        "To create an LSTM RNN model, we will add `LSTM` layers. The `return_sequences` parameter needs to set to `True` every time we add a new `LSTM` layer, excluding the final layer. The `input_shape` is the number of time steps and the number of indicators\n",
        "\n",
        "After each `LSTM` layer, we add a `Dropout` layer to prevent overfitting. The parameter passed to the `Dropout` layer is the fraction of nodes that will be drop on each epoch, for this demo, we will use a dropout value of `0.2`, it means that on each epoch we will randomly drop `20%` of the units.\n",
        "\n",
        "The number of units in each `LSTM` layers, is equal to the size of the time window, in this demo, we are taking five previous `T-Bons` closing price to predict the next closing price."
      ]
    },
    {
      "cell_type": "code",
      "metadata": {
        "id": "d7vMlu20OOF0"
      },
      "source": [
        "# Define the LSTM RNN model.\n",
        "model = Sequential()\n",
        "\n",
        "number_units = 5\n",
        "dropout_fraction = 0.2\n",
        "\n",
        "# Layer 1\n",
        "model.add(LSTM(\n",
        "    units=number_units,\n",
        "    return_sequences=True,\n",
        "    input_shape=(X_train.shape[1], 1))\n",
        "    )\n",
        "model.add(Dropout(dropout_fraction))\n",
        "# Layer 2\n",
        "model.add(LSTM(units=number_units, return_sequences=True))\n",
        "model.add(Dropout(dropout_fraction))\n",
        "# Layer 3\n",
        "model.add(LSTM(units=number_units))\n",
        "model.add(Dropout(dropout_fraction))\n",
        "# Output layer\n",
        "model.add(Dense(1))"
      ],
      "execution_count": 36,
      "outputs": []
    },
    {
      "cell_type": "markdown",
      "metadata": {
        "id": "MJJYDhjmYUVu"
      },
      "source": [
        "### Compiling the LSTM RNN Model\n",
        "\n",
        "We will compile the model, using the `adam` optimizer, as loss function, we will use `mean_square_error` since the value we want to predict is continuous."
      ]
    },
    {
      "cell_type": "code",
      "metadata": {
        "id": "spGAzduEOZNN"
      },
      "source": [
        "# Compile the model\n",
        "model.compile(optimizer=\"adam\", loss=\"mean_squared_error\")"
      ],
      "execution_count": 37,
      "outputs": []
    },
    {
      "cell_type": "code",
      "metadata": {
        "colab": {
          "base_uri": "https://localhost:8080/"
        },
        "id": "_We3mMmmOh_8",
        "outputId": "ce2228aa-c406-4cfe-b9d8-65b4ee1e08f2"
      },
      "source": [
        "# Summarize the model\n",
        "model.summary()"
      ],
      "execution_count": 38,
      "outputs": [
        {
          "output_type": "stream",
          "text": [
            "Model: \"sequential\"\n",
            "_________________________________________________________________\n",
            "Layer (type)                 Output Shape              Param #   \n",
            "=================================================================\n",
            "lstm (LSTM)                  (None, 5, 5)              140       \n",
            "_________________________________________________________________\n",
            "dropout (Dropout)            (None, 5, 5)              0         \n",
            "_________________________________________________________________\n",
            "lstm_1 (LSTM)                (None, 5, 5)              220       \n",
            "_________________________________________________________________\n",
            "dropout_1 (Dropout)          (None, 5, 5)              0         \n",
            "_________________________________________________________________\n",
            "lstm_2 (LSTM)                (None, 5)                 220       \n",
            "_________________________________________________________________\n",
            "dropout_2 (Dropout)          (None, 5)                 0         \n",
            "_________________________________________________________________\n",
            "dense (Dense)                (None, 1)                 6         \n",
            "=================================================================\n",
            "Total params: 586\n",
            "Trainable params: 586\n",
            "Non-trainable params: 0\n",
            "_________________________________________________________________\n"
          ],
          "name": "stdout"
        }
      ]
    },
    {
      "cell_type": "markdown",
      "metadata": {
        "id": "Y2LTv-MmYcqS"
      },
      "source": [
        "### Training the Model\n",
        "\n",
        "Once the model is defined, we train (fit) the model using `10` epochs. Since we are working with time-series data, it's important to set `shuffle=False` since it's necessary to keep the sequential order of the data.\n",
        "\n",
        "We can experiment with the `batch_size` parameter; however, smaller batch size is recommended; in this demo, we will use a `batch_size=1`."
      ]
    },
    {
      "cell_type": "code",
      "metadata": {
        "colab": {
          "base_uri": "https://localhost:8080/"
        },
        "id": "YYwAQuqQQPpj",
        "outputId": "8ab0fd66-19fe-4898-b6c1-a41814bac88c"
      },
      "source": [
        "# Train the model\n",
        "model.fit(X_train, y_train, epochs=10, shuffle=False, batch_size=1, verbose=1)"
      ],
      "execution_count": 39,
      "outputs": [
        {
          "output_type": "stream",
          "text": [
            "Epoch 1/10\n",
            "65/65 [==============================] - 4s 5ms/step - loss: 0.1649\n",
            "Epoch 2/10\n",
            "65/65 [==============================] - 0s 5ms/step - loss: 0.0479\n",
            "Epoch 3/10\n",
            "65/65 [==============================] - 0s 5ms/step - loss: 0.0505\n",
            "Epoch 4/10\n",
            "65/65 [==============================] - 0s 5ms/step - loss: 0.0537\n",
            "Epoch 5/10\n",
            "65/65 [==============================] - 0s 5ms/step - loss: 0.0592\n",
            "Epoch 6/10\n",
            "65/65 [==============================] - 0s 5ms/step - loss: 0.0599\n",
            "Epoch 7/10\n",
            "65/65 [==============================] - 0s 4ms/step - loss: 0.0576\n",
            "Epoch 8/10\n",
            "65/65 [==============================] - 0s 5ms/step - loss: 0.0362\n",
            "Epoch 9/10\n",
            "65/65 [==============================] - 0s 5ms/step - loss: 0.0520\n",
            "Epoch 10/10\n",
            "65/65 [==============================] - 0s 4ms/step - loss: 0.0490\n"
          ],
          "name": "stdout"
        },
        {
          "output_type": "execute_result",
          "data": {
            "text/plain": [
              "<tensorflow.python.keras.callbacks.History at 0x7f026b4ccf10>"
            ]
          },
          "metadata": {
            "tags": []
          },
          "execution_count": 39
        }
      ]
    },
    {
      "cell_type": "markdown",
      "metadata": {
        "id": "jQg5EQY5YlzB"
      },
      "source": [
        "---\n",
        "## Model Performance\n",
        "\n",
        "In this section, we will evaluate the model using the test data. \n",
        "\n",
        "We will need to:\n",
        "\n",
        "1. Evaluate the model using the `X_test` and `y_test` data.\n",
        "\n",
        "2. Use the `X_test` data to make predictions.\n",
        "\n",
        "3. Create a DataFrame of real (`y_test`) vs predicted values.\n",
        "\n",
        "4. Plot the Real vs predicted values as a line chart."
      ]
    },
    {
      "cell_type": "markdown",
      "metadata": {
        "id": "km05X-p4Ysiw"
      },
      "source": [
        "### Evaluate the Model\n",
        "\n",
        "It's time to evaluate our model to assess its performance. We will use the `evaluate` method using the testing data."
      ]
    },
    {
      "cell_type": "code",
      "metadata": {
        "colab": {
          "base_uri": "https://localhost:8080/"
        },
        "id": "xX6Mir3KQRHm",
        "outputId": "461c244f-1e60-40b6-b76d-a3e0214408ac"
      },
      "source": [
        "# Evaluate the model\n",
        "model.evaluate(X_test, y_test)"
      ],
      "execution_count": 40,
      "outputs": [
        {
          "output_type": "stream",
          "text": [
            "1/1 [==============================] - 1s 1s/step - loss: 0.0457\n"
          ],
          "name": "stdout"
        },
        {
          "output_type": "execute_result",
          "data": {
            "text/plain": [
              "0.045650918036699295"
            ]
          },
          "metadata": {
            "tags": []
          },
          "execution_count": 40
        }
      ]
    },
    {
      "cell_type": "markdown",
      "metadata": {
        "id": "TXd6LPC9Yx9f"
      },
      "source": [
        "### Making Predictions\n",
        "\n",
        "We will make some closing price predictions using our brand new LSTM RNN model and our testing data."
      ]
    },
    {
      "cell_type": "code",
      "metadata": {
        "id": "0I3etKYjQYOX"
      },
      "source": [
        "# Make some predictions\n",
        "predicted = model.predict(X_test)"
      ],
      "execution_count": 41,
      "outputs": []
    },
    {
      "cell_type": "markdown",
      "metadata": {
        "id": "-GDQdfqxY93t"
      },
      "source": [
        "Since we scaled the original values using the `MinMaxScaler`, we need to recover the original prices to better understand the predictions.\n",
        "\n",
        "We will use the `inverse_transform()` method of the scaler to decode the scaled values to their original scale."
      ]
    },
    {
      "cell_type": "code",
      "metadata": {
        "id": "CO7-a8gRQdkm"
      },
      "source": [
        "# Recover the original prices instead of the scaled version\n",
        "predicted_prices = scaler.inverse_transform(predicted)\n",
        "real_prices = scaler.inverse_transform(y_test.reshape(-1, 1))"
      ],
      "execution_count": 42,
      "outputs": []
    },
    {
      "cell_type": "markdown",
      "metadata": {
        "id": "SgC0-Vz5ZGQR"
      },
      "source": [
        "### Plotting Predicted Vs. Real Prices\n",
        "\n",
        "To plot the predicted vs. the real values, we will create a DataFrame."
      ]
    },
    {
      "cell_type": "code",
      "metadata": {
        "colab": {
          "base_uri": "https://localhost:8080/",
          "height": 202
        },
        "id": "rLRlQHkkQjB3",
        "outputId": "0f79eb4a-9e9e-4a72-d025-71b1d1613945"
      },
      "source": [
        "# Create a DataFrame of Real and Predicted values\n",
        "stocks = pd.DataFrame({\n",
        "    \"Real\": real_prices.ravel(),\n",
        "    \"Predicted\": predicted_prices.ravel()\n",
        "    }, index = df_daily_returns.index[-len(real_prices): ])\n",
        "stocks.head()"
      ],
      "execution_count": 44,
      "outputs": [
        {
          "output_type": "execute_result",
          "data": {
            "text/html": [
              "<div>\n",
              "<style scoped>\n",
              "    .dataframe tbody tr th:only-of-type {\n",
              "        vertical-align: middle;\n",
              "    }\n",
              "\n",
              "    .dataframe tbody tr th {\n",
              "        vertical-align: top;\n",
              "    }\n",
              "\n",
              "    .dataframe thead th {\n",
              "        text-align: right;\n",
              "    }\n",
              "</style>\n",
              "<table border=\"1\" class=\"dataframe\">\n",
              "  <thead>\n",
              "    <tr style=\"text-align: right;\">\n",
              "      <th></th>\n",
              "      <th>Real</th>\n",
              "      <th>Predicted</th>\n",
              "    </tr>\n",
              "  </thead>\n",
              "  <tbody>\n",
              "    <tr>\n",
              "      <th>2021-02-16</th>\n",
              "      <td>-0.003456</td>\n",
              "      <td>-0.000862</td>\n",
              "    </tr>\n",
              "    <tr>\n",
              "      <th>2021-02-17</th>\n",
              "      <td>0.012473</td>\n",
              "      <td>-0.000711</td>\n",
              "    </tr>\n",
              "    <tr>\n",
              "      <th>2021-02-18</th>\n",
              "      <td>0.006539</td>\n",
              "      <td>-0.000523</td>\n",
              "    </tr>\n",
              "    <tr>\n",
              "      <th>2021-02-19</th>\n",
              "      <td>-0.023557</td>\n",
              "      <td>-0.000296</td>\n",
              "    </tr>\n",
              "    <tr>\n",
              "      <th>2021-02-22</th>\n",
              "      <td>-0.021104</td>\n",
              "      <td>-0.000124</td>\n",
              "    </tr>\n",
              "  </tbody>\n",
              "</table>\n",
              "</div>"
            ],
            "text/plain": [
              "                Real  Predicted\n",
              "2021-02-16 -0.003456  -0.000862\n",
              "2021-02-17  0.012473  -0.000711\n",
              "2021-02-18  0.006539  -0.000523\n",
              "2021-02-19 -0.023557  -0.000296\n",
              "2021-02-22 -0.021104  -0.000124"
            ]
          },
          "metadata": {
            "tags": []
          },
          "execution_count": 44
        }
      ]
    },
    {
      "cell_type": "code",
      "metadata": {
        "colab": {
          "base_uri": "https://localhost:8080/",
          "height": 283
        },
        "id": "TNimcJDTQnEZ",
        "outputId": "339107c1-740d-4aac-850e-fcd6ca14f1d8"
      },
      "source": [
        "# Plot the real vs predicted prices as a line chart\n",
        "stocks.plot()"
      ],
      "execution_count": 46,
      "outputs": [
        {
          "output_type": "execute_result",
          "data": {
            "text/plain": [
              "<matplotlib.axes._subplots.AxesSubplot at 0x7f0267088ed0>"
            ]
          },
          "metadata": {
            "tags": []
          },
          "execution_count": 46
        },
        {
          "output_type": "display_data",
          "data": {
            "image/png": "[encoded data removed]",
            "text/plain": [
              "<Figure size 432x288 with 1 Axes>"
            ]
          },
          "metadata": {
            "tags": [],
            "needs_background": "light"
          }
        }
      ]
    },
    {
      "cell_type": "code",
      "metadata": {
        "id": "k5_hGDBCQxlH"
      },
      "source": [
        ""
      ],
      "execution_count": null,
      "outputs": []
    }
  ]
}
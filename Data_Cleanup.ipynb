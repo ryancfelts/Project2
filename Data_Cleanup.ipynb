{
 "cells": [
  {
   "cell_type": "code",
   "execution_count": 6,
   "metadata": {},
   "outputs": [],
   "source": [
    "# Import libraries and dependencies\n",
    "import os\n",
    "import numpy as np\n",
    "import pandas as pd\n",
    "import alpaca_trade_api as tradeapi\n",
    "from MCForecastTools import MCSimulation\n",
    "\n",
    "%matplotlib inline"
   ]
  },
  {
   "cell_type": "code",
   "execution_count": 8,
   "metadata": {},
   "outputs": [],
   "source": [
    "# Load .env enviroment variables\n",
    "from dotenv import load_dotenv\n",
    "load_dotenv()\n",
    "\n",
    "# Set Alpaca API key and secret\n",
    "alpaca_api_key = os.getenv(\"ALPACA_API_KEY\")\n",
    "alpaca_secret_key = os.getenv(\"ALPACA_SECRET_KEY\")\n",
    "\n",
    "api = tradeapi.REST(\n",
    "    alpaca_api_key,\n",
    "    alpaca_secret_key,\n",
    "    api_version = \"v2\"\n",
    ")"
   ]
  },
  {
   "cell_type": "code",
   "execution_count": null,
   "metadata": {},
   "outputs": [],
   "source": [
    "# Set the ticker \"SQ\",\"ADYEY\",\"MELI\",\"GDOT\",\"PYPL\",\"FISV\",\"PFE\",\"GS\",\"V\",\"AXP\",\"SPY\" . These are the top 10 fintech stock found in Referenc: Motley fool , \n",
    "# \n",
    "ticker =[\"SQ\",\"ATV\",\"MELI\",\"GDOT\",\"PYPL\",\"FISV\",\"PFE\",\"GS\",\"V\",\"AXP\"]\n",
    "\n",
    "# Set timeframe to '1D'\n",
    "timeframe = \"1D\"\n",
    "\n",
    "# Set start and end datetimes of 5 years from Today\n",
    "start_date = pd.Timestamp(\"2019-12-31\", tz=\"America/New_York\").isoformat()\n",
    "end_date = pd.Timestamp(\"2020-12-31\", tz=\"America/New_York\").isoformat()\n",
    "\n",
    "# Get 1 year's worth of historical data for \"SQ\",\"ADYEY\",\"MELI\",\"GDOT\",\"PYPL\",\"FISV\",\"PFE\",\"GS\",\"V\",\"AXP\",\"SPY\"\n",
    "df_portfolio_year = api.get_barset(\n",
    "    ticker,\n",
    "    timeframe,\n",
    "    start=start_date,\n",
    "    end=end_date\n",
    ").df\n",
    "\n",
    "df_portfolio_year.head()\n",
    "ticker =[\"SPY\"]\n",
    "\n",
    "# Set timeframe to '1D'\n",
    "timeframe = \"1D\"\n",
    "\n",
    "# Set start and end datetimes of 5 years from Today\n",
    "start_date = pd.Timestamp(\"2019-12-31\", tz=\"America/New_York\").isoformat()\n",
    "end_date = pd.Timestamp(\"2020-12-31\", tz=\"America/New_York\").isoformat()\n",
    "\n",
    "# Get 1 year's worth of historical data for S&P 500\n",
    "df_sp500 = api.get_barset(\n",
    "    ticker,\n",
    "    timeframe,\n",
    "    start=start_date,\n",
    "    end=end_date\n",
    ").df\n",
    "\n",
    "df_sp500.head()"
   ]
  },
  {
   "cell_type": "code",
   "execution_count": null,
   "metadata": {},
   "outputs": [],
   "source": [
    "#Second Investment Portfolio datafram\n",
    "existing_investment_df = pd.read_csv(\"Investment_Tracker.csv\")\n",
    "existing_investment_df.head()"
   ]
  },
  {
   "cell_type": "code",
   "execution_count": null,
   "metadata": {},
   "outputs": [],
   "source": [
    "# Create and empty DataFrame for closing prices for \"SQ\",\"ADYEY\",\"MELI\",\"GDOT\",\"PYPL\",\"FISV\",\"PFE\",\"GS\",\"V\",\"AXP\",\"SPY\"\n",
    "df_closing_prices = pd.DataFrame()\n",
    "\n",
    "# Fetch the closing prices of \"SQ\",\"ADYEY\",\"MELI\",\"GDOT\",\"PYPL\",\"FISV\",\"GS\",\"V\",\"AXP\",\"SPY\"\n",
    "df_closing_prices[\"SQ\"] = df_portfolio_year[\"SQ\"][\"close\"]\n",
    "df_closing_prices[\"ATV\"] = df_portfolio_year[\"ATV\"][\"close\"]\n",
    "df_closing_prices[\"MELI\"] = df_portfolio_year[\"MELI\"][\"close\"]\n",
    "df_closing_prices[\"GDOT\"] = df_portfolio_year[\"GDOT\"][\"close\"]\n",
    "df_closing_prices[\"PYPL\"] = df_portfolio_year[\"PYPL\"][\"close\"]\n",
    "df_closing_prices[\"FISV\"] = df_portfolio_year[\"FISV\"][\"close\"]\n",
    "df_closing_prices[\"GS\"] = df_portfolio_year[\"GS\"][\"close\"]\n",
    "df_closing_prices[\"V\"] = df_portfolio_year[\"V\"][\"close\"]\n",
    "df_closing_prices[\"AXP\"] = df_portfolio_year[\"AXP\"][\"close\"]\n",
    "df_closing_prices[\"PFE\"] = df_portfolio_year[\"PFE\"][\"close\"]\n",
    "df_closing_prices[\"SPY\"] = df_sp500[\"SPY\"][\"close\"]\n",
    "\n",
    "# Drop the time component of the date\n",
    "df_closing_prices.index = df_closing_prices.index.date\n",
    "\n",
    "# Display sample data\n",
    "df_closing_prices.head()"
   ]
  },
  {
   "cell_type": "code",
   "execution_count": null,
   "metadata": {},
   "outputs": [],
   "source": [
    "# Compute daily returns after cleaning the null values if any\n",
    "df_daily_returns = df_closing_prices.pct_change().dropna()\n",
    "\n",
    "# Display sample data\n",
    "df_daily_returns.head()"
   ]
  },
  {
   "cell_type": "code",
   "execution_count": null,
   "metadata": {},
   "outputs": [],
   "source": [
    "# Plot daily returns for \"SQ\",\"ADYEY\",\"MELI\",\"GDOT\",\"PYPL\",\"FISV\",\"PFE\",\"GS\",\"V\",\"AXP\",\"SPY\"\n",
    "df_daily_returns.plot(title=\"Daily Returns of SQ, ATV, MELI, GDOT, PYPL, FISV, PFE, GS, V, XP, SPY over the Last Year\")"
   ]
  },
  {
   "cell_type": "code",
   "execution_count": null,
   "metadata": {},
   "outputs": [],
   "source": [
    "# Running simulations on top 10 fintech stocks along with SPY\n",
    "# Set number of simulations\n",
    "num_sims = 500\n",
    "\n",
    "# Configure a Monte Carlo simulation to forecast one year daily returns\n",
    "MC_simulation_all = MCSimulation(\n",
    "    portfolio_data = df_portfolio_year,\n",
    "    weights = [1/10, 1/10, 1/10, 1/10, 1/10, 1/10, 1/10, 1/10, 1/10, 1/10],\n",
    "    num_simulation = num_sims,\n",
    "    num_trading_days = 252\n",
    ")\n",
    "MC_simulation_all.portfolio_data.head()"
   ]
  },
  {
   "cell_type": "code",
   "execution_count": null,
   "metadata": {},
   "outputs": [],
   "source": [
    "# Running simulations on all stocks\n",
    "MC_simulation_all.calc_cumulative_return()"
   ]
  },
  {
   "cell_type": "code",
   "execution_count": null,
   "metadata": {},
   "outputs": [],
   "source": [
    "# Create line plot of cumulative returns for our portfolio\n",
    "all_line_plot = MC_simulation_all.plot_simulation()"
   ]
  },
  {
   "cell_type": "code",
   "execution_count": null,
   "metadata": {},
   "outputs": [],
   "source": [
    "# Create distribution plot of cumulative returns for our portfolio\n",
    "all_dist_plot = MC_simulation_all.plot_distribution()"
   ]
  },
  {
   "cell_type": "code",
   "execution_count": null,
   "metadata": {},
   "outputs": [],
   "source": [
    "# Fetch summary statistics from the Monte Carlo simulation results\n",
    "all_tbl = MC_simulation_all.summarize_cumulative_return()\n",
    "\n",
    "# Print summary statistics\n",
    "print(all_tbl)"
   ]
  },
  {
   "cell_type": "code",
   "execution_count": null,
   "metadata": {},
   "outputs": [],
   "source": [
    "# Use the lower and upper `95%` confidence intervals to calculate the range of the possible outcomes of our $1,000,000 investments in stocks\n",
    "all_ci_lower = round(all_tbl[8]*1000000,2)\n",
    "all_ci_upper = round(all_tbl[9]*1000000,2)\n",
    "print(all_ci_lower)\n",
    "print(all_ci_upper)"
   ]
  },
  {
   "cell_type": "code",
   "execution_count": null,
   "metadata": {},
   "outputs": [],
   "source": [
    "ticker =[\"SPY\"]\n",
    "\n",
    "# Set timeframe to '1D'\n",
    "timeframe = \"1D\"\n",
    "\n",
    "# Set start and end datetimes of 5 years from Today\n",
    "start_date = pd.Timestamp(\"2019-12-31\", tz=\"America/New_York\").isoformat()\n",
    "end_date = pd.Timestamp(\"2020-12-31\", tz=\"America/New_York\").isoformat()\n",
    "\n",
    "# Get 1 year's worth of historical data for S&P 500\n",
    "df_sp500 = api.get_barset(\n",
    "    ticker,\n",
    "    timeframe,\n",
    "    start=start_date,\n",
    "    end=end_date\n",
    ").df\n",
    "\n",
    "df_sp500.head()"
   ]
  },
  {
   "cell_type": "code",
   "execution_count": null,
   "metadata": {},
   "outputs": [],
   "source": [
    "# Running simulations on S&P 500\n",
    "# Set number of simulations\n",
    "num_sims = 500\n",
    "\n",
    "# Configure a Monte Carlo simulation to forecast one year daily returns\n",
    "MC_simulation_spy = MCSimulation(\n",
    "    portfolio_data = df_sp500,\n",
    "    weights = [1],\n",
    "    num_simulation = num_sims,\n",
    "    num_trading_days = 252\n",
    ")\n",
    "MC_simulation_spy.portfolio_data.head()"
   ]
  },
  {
   "cell_type": "code",
   "execution_count": null,
   "metadata": {},
   "outputs": [],
   "source": [
    "MC_simulation_spy.calc_cumulative_return()"
   ]
  },
  {
   "cell_type": "code",
   "execution_count": null,
   "metadata": {},
   "outputs": [],
   "source": [
    "# Create line plot of cumulative returns for SPY\n",
    "spy_line_plot = MC_simulation_spy.plot_simulation()"
   ]
  },
  {
   "cell_type": "code",
   "execution_count": null,
   "metadata": {},
   "outputs": [],
   "source": [
    "# Create distribution plot of cumulative returns for SPY\n",
    "spy_dist_plot = MC_simulation_spy.plot_distribution()"
   ]
  },
  {
   "cell_type": "code",
   "execution_count": null,
   "metadata": {},
   "outputs": [],
   "source": [
    "# Fetch summary statistics from the Monte Carlo simulation results\n",
    "spy_tbl = MC_simulation_spy.summarize_cumulative_return()\n",
    "\n",
    "# Print summary statistics for SPY\n",
    "print(spy_tbl)"
   ]
  },
  {
   "cell_type": "code",
   "execution_count": null,
   "metadata": {},
   "outputs": [],
   "source": [
    "# Use the lower and upper `95%` confidence intervals to calculate the range of the possible outcomes of our $1,000,000 investments in SPY\n",
    "spy_ci_lower = round(spy_tbl[8]*1000000,2)\n",
    "spy_ci_upper = round(spy_tbl[9]*1000000,2)\n",
    "print(spy_ci_lower)\n",
    "print(spy_ci_upper)"
   ]
  },
  {
   "cell_type": "code",
   "execution_count": null,
   "metadata": {},
   "outputs": [],
   "source": [
    "def investment(PMT, n, i):\n",
    "    x = 0\n",
    "    investment_balance = 0\n",
    "    while x < n:\n",
    "        investment_balance *= (1 + i)\n",
    "        investment_balance += PMT\n",
    "        x = x + 1\n",
    "\n",
    "    return round(investment_balance, 2)"
   ]
  },
  {
   "cell_type": "code",
   "execution_count": null,
   "metadata": {},
   "outputs": [],
   "source": [
    "##### GETING BETAS FOR FINTECH STOCKS #####"
   ]
  },
  {
   "cell_type": "code",
   "execution_count": null,
   "metadata": {},
   "outputs": [],
   "source": [
    "#Getting the covariance of each Fintech stock\n",
    "sq_covariance = df_daily_returns[\"SQ\"].cov(df_daily_returns[\"SPY\"])\n",
    "atv_covariance = df_daily_returns[\"ATV\"].cov(df_daily_returns[\"SPY\"])\n",
    "meli_covariance = df_daily_returns[\"MELI\"].cov(df_daily_returns[\"SPY\"])\n",
    "gdot_covariance = df_daily_returns[\"GDOT\"].cov(df_daily_returns[\"SPY\"])\n",
    "pypl_covariance = df_daily_returns[\"PYPL\"].cov(df_daily_returns[\"SPY\"])\n",
    "fisv_covariance = df_daily_returns[\"FISV\"].cov(df_daily_returns[\"SPY\"])\n",
    "gs_covariance = df_daily_returns[\"GS\"].cov(df_daily_returns[\"SPY\"])\n",
    "v_covariance = df_daily_returns[\"V\"].cov(df_daily_returns[\"SPY\"])\n",
    "axp_covariance = df_daily_returns[\"AXP\"].cov(df_daily_returns[\"SPY\"])\n",
    "pfe_covariance = df_daily_returns[\"PFE\"].cov(df_daily_returns[\"SPY\"])\n",
    "#Getting the variance of the S&P 500\n",
    "variance = df_daily_returns[\"SPY\"].var()"
   ]
  },
  {
   "cell_type": "code",
   "execution_count": null,
   "metadata": {},
   "outputs": [],
   "source": [
    "#Getting the Beta's of the Fintech Stocks\n",
    "sq_beta = round(sq_covariance / variance , 2)\n",
    "atv_beta = round(atv_covariance / variance, 2)\n",
    "meli_beta = round(meli_covariance / variance, 2)\n",
    "gdot_beta = round(gdot_covariance / variance, 2)\n",
    "pypl_beta = round(pypl_covariance / variance, 2)\n",
    "fisv_beta = round(fisv_covariance / variance, 2)\n",
    "gs_beta = round(gs_covariance / variance, 2)\n",
    "v_beta = round(v_covariance / variance, 2)\n",
    "axp_beta = round(axp_covariance / variance, 2)\n",
    "pfe_beta = round(pfe_covariance / variance, 2)\n"
   ]
  },
  {
   "cell_type": "code",
   "execution_count": null,
   "metadata": {},
   "outputs": [],
   "source": [
    "print(f\"The Beta of SQ is {sq_beta}\")\n",
    "print(f\"The Beta of ATV is {atv_beta}\")\n",
    "print(f\"The Beta of MELI is {meli_beta}\")\n",
    "print(f\"The Beta of GDOT is {gdot_beta}\")\n",
    "print(f\"The Beta of PYPL is {pypl_beta}\")\n",
    "print(f\"The Beta of FISV is {fisv_beta}\")\n",
    "print(f\"The Beta of GS is {gs_beta}\")\n",
    "print(f\"The Beta of V is {v_beta}\")\n",
    "print(f\"The Beta of AXP is {axp_beta}\")\n",
    "print(f\"The Beta of PFE is {pfe_beta}\")"
   ]
  },
  {
   "cell_type": "code",
   "execution_count": null,
   "metadata": {},
   "outputs": [],
   "source": [
    "# Sharpe Ratio's for Fintech Stocks"
   ]
  },
  {
   "cell_type": "code",
   "execution_count": null,
   "metadata": {},
   "outputs": [],
   "source": [
    "sq_sharpe = round((df_daily_returns[\"SQ\"].mean() * 252) / (df_daily_returns[\"SQ\"].std() * np.sqrt(252)), 2)\n",
    "atv_sharpe = round((df_daily_returns[\"ATV\"].mean() * 252) / (df_daily_returns[\"ATV\"].std() * np.sqrt(252)), 2)\n",
    "meli_sharpe = round((df_daily_returns[\"MELI\"].mean() * 252) / (df_daily_returns[\"MELI\"].std() * np.sqrt(252)), 2)\n",
    "gdot_sharpe = round((df_daily_returns[\"GDOT\"].mean() * 252) / (df_daily_returns[\"GDOT\"].std() * np.sqrt(252)), 2)\n",
    "pypl_sharpe = round((df_daily_returns[\"PYPL\"].mean() * 252) / (df_daily_returns[\"PYPL\"].std() * np.sqrt(252)), 2)\n",
    "fisv_sharpe = round((df_daily_returns[\"FISV\"].mean() * 252) / (df_daily_returns[\"FISV\"].std() * np.sqrt(252)), 2)\n",
    "gs_sharpe = round((df_daily_returns[\"GS\"].mean() * 252) / (df_daily_returns[\"GS\"].std() * np.sqrt(252)), 2)\n",
    "v_sharpe = round((df_daily_returns[\"V\"].mean() * 252) / (df_daily_returns[\"V\"].std() * np.sqrt(252)), 2)\n",
    "axp_sharpe = round((df_daily_returns[\"AXP\"].mean() * 252) / (df_daily_returns[\"AXP\"].std() * np.sqrt(252)), 2)\n",
    "pfe_sharpe = round((df_daily_returns[\"PFE\"].mean() * 252) / (df_daily_returns[\"PFE\"].std() * np.sqrt(252)), 2)"
   ]
  },
  {
   "cell_type": "code",
   "execution_count": null,
   "metadata": {},
   "outputs": [],
   "source": [
    "print(f\"The Sharpe Ratio of SQ is {sq_sharpe}\")\n",
    "print(f\"The Sharpe Ratio of ATV is {atv_sharpe}\")\n",
    "print(f\"The Sharpe Ratio of MELI is {meli_sharpe}\")\n",
    "print(f\"The Sharpe Ratio of GDOT is {gdot_sharpe}\")\n",
    "print(f\"The Sharpe Ratio of PYPL is {pypl_sharpe}\")\n",
    "print(f\"The Sharpe Ratio of FISV is {fisv_sharpe}\")\n",
    "print(f\"The Sharpe Ratio of GS is {gs_sharpe}\")\n",
    "print(f\"The Sharpe Ratio of V is {v_sharpe}\")\n",
    "print(f\"The Sharpe Ratio of AXP is {axp_sharpe}\")\n",
    "print(f\"The Sharpe Ratio of PFE is {pfe_sharpe}\")"
   ]
  },
  {
   "cell_type": "code",
   "execution_count": null,
   "metadata": {},
   "outputs": [],
   "source": []
  }
 ],
 "metadata": {
  "kernelspec": {
   "display_name": "Python 3",
   "language": "python",
   "name": "python3"
  },
  "language_info": {
   "codemirror_mode": {
    "name": "ipython",
    "version": 3
   },
   "file_extension": ".py",
   "mimetype": "text/x-python",
   "name": "python",
   "nbconvert_exporter": "python",
   "pygments_lexer": "ipython3",
   "version": "3.7.0"
  }
 },
 "nbformat": 4,
 "nbformat_minor": 4
}
